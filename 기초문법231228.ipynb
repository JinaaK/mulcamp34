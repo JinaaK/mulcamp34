{
  "nbformat": 4,
  "nbformat_minor": 0,
  "metadata": {
    "colab": {
      "provenance": [],
      "toc_visible": true,
      "authorship_tag": "ABX9TyMnmmVaSYa0jUJ9Xjq3JJ7A",
      "include_colab_link": true
    },
    "kernelspec": {
      "name": "python3",
      "display_name": "Python 3"
    },
    "language_info": {
      "name": "python"
    }
  },
  "cells": [
    {
      "cell_type": "markdown",
      "metadata": {
        "id": "view-in-github",
        "colab_type": "text"
      },
      "source": [
        "<a href=\"https://colab.research.google.com/github/JinaaK/mulcamp34/blob/main/%EA%B8%B0%EC%B4%88%EB%AC%B8%EB%B2%95231228.ipynb\" target=\"_parent\"><img src=\"https://colab.research.google.com/assets/colab-badge.svg\" alt=\"Open In Colab\"/></a>"
      ]
    },
    {
      "cell_type": "markdown",
      "source": [
        "# 27일 리뷰\n",
        "- int, float, str, bool(True/False)\n",
        "- 리스트, 튜플"
      ],
      "metadata": {
        "id": "BFymbmitxbjv"
      }
    },
    {
      "cell_type": "markdown",
      "source": [
        "# 문자열 함수\n",
        "- 교재 (p.158)\n",
        "- 영어 : function, method\n"
      ],
      "metadata": {
        "id": "_s5n8Sqkw7ly"
      }
    },
    {
      "cell_type": "markdown",
      "source": [
        "## split() : 문자열 분리"
      ],
      "metadata": {
        "id": "jnRmHCVY2oOs"
      }
    },
    {
      "cell_type": "code",
      "source": [
        "coffee_menu_str = \"에스프레소,아메리카노,카페라테,카푸치노\"\n",
        "coffee_menu_str.split(',')\n",
        "\n",
        "# 결과해석\n",
        "# 내가 원하는대로 결과가 나왔는가?\n",
        "# 반환값, Return 자료형 확인 필수"
      ],
      "metadata": {
        "colab": {
          "base_uri": "https://localhost:8080/"
        },
        "id": "24cgW-uCx2z_",
        "outputId": "24a13c15-f1a0-49d7-dd7d-c2267c9b9435"
      },
      "execution_count": 2,
      "outputs": [
        {
          "output_type": "execute_result",
          "data": {
            "text/plain": [
              "['에스프레소', '아메리카노', '카페라테', '카푸치노']"
            ]
          },
          "metadata": {},
          "execution_count": 2
        }
      ]
    },
    {
      "cell_type": "code",
      "source": [
        "\"에스프레소,아메리카노,카페라테,카푸치노\".split(',')"
      ],
      "metadata": {
        "colab": {
          "base_uri": "https://localhost:8080/"
        },
        "id": "Tx5kqmQ6zfzz",
        "outputId": "080a6151-cb60-46ae-929c-b6d54ac24030"
      },
      "execution_count": 4,
      "outputs": [
        {
          "output_type": "execute_result",
          "data": {
            "text/plain": [
              "['에스프레소', '아메리카노', '카페라테', '카푸치노']"
            ]
          },
          "metadata": {},
          "execution_count": 4
        }
      ]
    },
    {
      "cell_type": "code",
      "source": [
        "\"에스프레소 아메리카노 카페라테 카푸치노\".split(' ')"
      ],
      "metadata": {
        "colab": {
          "base_uri": "https://localhost:8080/"
        },
        "id": "npP4GkXszvcL",
        "outputId": "e5e379b2-5d97-4105-b32a-b80860cecab1"
      },
      "execution_count": 7,
      "outputs": [
        {
          "output_type": "execute_result",
          "data": {
            "text/plain": [
              "['에스프레소', '아메리카노', '카페라테', '카푸치노']"
            ]
          },
          "metadata": {},
          "execution_count": 7
        }
      ]
    },
    {
      "cell_type": "code",
      "source": [
        "\"에스프레소.아메리카노.카페라테.카푸치노\".split('.')"
      ],
      "metadata": {
        "colab": {
          "base_uri": "https://localhost:8080/"
        },
        "id": "2ZkQJhm90T2B",
        "outputId": "4bb5d4b8-eb96-459f-9b32-54e838802ea4"
      },
      "execution_count": 8,
      "outputs": [
        {
          "output_type": "execute_result",
          "data": {
            "text/plain": [
              "['에스프레소', '아메리카노', '카페라테', '카푸치노']"
            ]
          },
          "metadata": {},
          "execution_count": 8
        }
      ]
    },
    {
      "cell_type": "code",
      "source": [
        "phone_number = \"+82-01-2345-6789\"\n",
        "\n",
        "# +82만 추출하기\n",
        "# print(phone_number[0:3])\n",
        "result = phone_number.split('-')\n",
        "result[0]"
      ],
      "metadata": {
        "colab": {
          "base_uri": "https://localhost:8080/",
          "height": 35
        },
        "id": "-PJM2jiJ0di4",
        "outputId": "f2622e60-2fdd-426a-d4a8-3a394fa932d8"
      },
      "execution_count": 11,
      "outputs": [
        {
          "output_type": "execute_result",
          "data": {
            "text/plain": [
              "'+82'"
            ],
            "application/vnd.google.colaboratory.intrinsic+json": {
              "type": "string"
            }
          },
          "metadata": {},
          "execution_count": 11
        }
      ]
    },
    {
      "cell_type": "code",
      "source": [
        "# maxsplit, 매개변수 (arguments, parameters)\n",
        "print(phone_number.split('-', maxsplit=1))\n",
        "print(phone_number.split('-', maxsplit=2))"
      ],
      "metadata": {
        "colab": {
          "base_uri": "https://localhost:8080/"
        },
        "id": "j31QddEZ2AmA",
        "outputId": "c08da3c7-435e-4729-e6ac-5482f1b5a50e"
      },
      "execution_count": 15,
      "outputs": [
        {
          "output_type": "stream",
          "name": "stdout",
          "text": [
            "['+82', '01-2345-6789']\n",
            "['+82', '01', '2345-6789']\n"
          ]
        }
      ]
    },
    {
      "cell_type": "markdown",
      "source": [
        "## strip() : 필요없는 문자열 삭제\n",
        "- 앞뒤 공백 혹은 개행문자와 같이 불필요한 부분을 지우고 싶을 때 사용"
      ],
      "metadata": {
        "id": "8OcpV7nm2z5I"
      }
    },
    {
      "cell_type": "code",
      "source": [
        "tempText = ' Python '\n",
        "tempText.strip()"
      ],
      "metadata": {
        "colab": {
          "base_uri": "https://localhost:8080/",
          "height": 35
        },
        "id": "qVpNrwlR3fRm",
        "outputId": "54616771-29f5-4f21-d57b-5891204c53b9"
      },
      "execution_count": 17,
      "outputs": [
        {
          "output_type": "execute_result",
          "data": {
            "text/plain": [
              "'Python'"
            ],
            "application/vnd.google.colaboratory.intrinsic+json": {
              "type": "string"
            }
          },
          "metadata": {},
          "execution_count": 17
        }
      ]
    },
    {
      "cell_type": "code",
      "source": [
        "tempText = 'aaaaaPythonaaa'\n",
        "# temptText[3:9]\n",
        "tempText.strip('a')"
      ],
      "metadata": {
        "colab": {
          "base_uri": "https://localhost:8080/",
          "height": 35
        },
        "id": "wclDvafZ338u",
        "outputId": "b2a36f93-9133-4515-85b7-431da3c43a7b"
      },
      "execution_count": 4,
      "outputs": [
        {
          "output_type": "execute_result",
          "data": {
            "text/plain": [
              "'Python'"
            ],
            "application/vnd.google.colaboratory.intrinsic+json": {
              "type": "string"
            }
          },
          "metadata": {},
          "execution_count": 4
        }
      ]
    },
    {
      "cell_type": "code",
      "source": [
        "tempText = 'aaaaabbPythonbbaaaaaa'\n",
        "# temptText[3:9]\n",
        "result = tempText.strip('a')\n",
        "result.strip('b')\n",
        "\n",
        "# 코딩은 1가지의 정답이 있는 것이 아님\n",
        "# 여러가지 정답 중에서 효율적인 정답을 찾는 과정이 코딩!"
      ],
      "metadata": {
        "colab": {
          "base_uri": "https://localhost:8080/",
          "height": 35
        },
        "id": "11h4_44J4gxh",
        "outputId": "b7c9a630-0558-47e0-bce3-b901ac7a8ac5"
      },
      "execution_count": 5,
      "outputs": [
        {
          "output_type": "execute_result",
          "data": {
            "text/plain": [
              "'Python'"
            ],
            "application/vnd.google.colaboratory.intrinsic+json": {
              "type": "string"
            }
          },
          "metadata": {},
          "execution_count": 5
        }
      ]
    },
    {
      "cell_type": "code",
      "source": [
        "tempText.strip('ab') # 특수문자 활용도 가능"
      ],
      "metadata": {
        "colab": {
          "base_uri": "https://localhost:8080/",
          "height": 35
        },
        "id": "2m-iQjwO49ha",
        "outputId": "0d238c61-f045-4b41-ed56-001972ba0187"
      },
      "execution_count": 7,
      "outputs": [
        {
          "output_type": "execute_result",
          "data": {
            "text/plain": [
              "'Python'"
            ],
            "application/vnd.google.colaboratory.intrinsic+json": {
              "type": "string"
            }
          },
          "metadata": {},
          "execution_count": 7
        }
      ]
    },
    {
      "cell_type": "code",
      "source": [
        "tempText = '\\n Python \\n\\n'\n",
        "tempText.strip('\\n')"
      ],
      "metadata": {
        "colab": {
          "base_uri": "https://localhost:8080/",
          "height": 35
        },
        "id": "86eN8NfG82Yt",
        "outputId": "597658e4-1fb7-4e5d-92e0-ce1a7566d1d4"
      },
      "execution_count": 9,
      "outputs": [
        {
          "output_type": "execute_result",
          "data": {
            "text/plain": [
              "' Python '"
            ],
            "application/vnd.google.colaboratory.intrinsic+json": {
              "type": "string"
            }
          },
          "metadata": {},
          "execution_count": 9
        }
      ]
    },
    {
      "cell_type": "code",
      "source": [
        "tempText.strip(' \\n')\n",
        "\n",
        "# lstrip(), 해당 텍스트의 왼쪽\n",
        "# rstrip(), 해당 텍스트의 오른쪽"
      ],
      "metadata": {
        "colab": {
          "base_uri": "https://localhost:8080/",
          "height": 35
        },
        "id": "JINg3bVK9b7e",
        "outputId": "5a6509ca-853f-42ca-d0dc-3eb380fa54bf"
      },
      "execution_count": 11,
      "outputs": [
        {
          "output_type": "execute_result",
          "data": {
            "text/plain": [
              "'Python'"
            ],
            "application/vnd.google.colaboratory.intrinsic+json": {
              "type": "string"
            }
          },
          "metadata": {},
          "execution_count": 11
        }
      ]
    },
    {
      "cell_type": "markdown",
      "source": [
        "## join(): 문자열 연결\n",
        "- 더하기 연산자(+)로 두 문자열을 연결 가능"
      ],
      "metadata": {
        "id": "IROiFVJu-D7c"
      }
    },
    {
      "cell_type": "code",
      "source": [
        "name1 = '철수'\n",
        "name2 = '영미'\n",
        "\n",
        "hello = '님, 주소와 전화 번호를 입력해 주세요'\n",
        "\n",
        "print(name1 + hello)\n",
        "print(name2 + hello)"
      ],
      "metadata": {
        "colab": {
          "base_uri": "https://localhost:8080/"
        },
        "id": "cergFaPw-H7K",
        "outputId": "a3857c92-956e-43f2-f2df-e2dec4367b15"
      },
      "execution_count": 12,
      "outputs": [
        {
          "output_type": "stream",
          "name": "stdout",
          "text": [
            "철수님, 주소와 전화 번호를 입력해 주세요\n",
            "영미님, 주소와 전화 번호를 입력해 주세요\n"
          ]
        }
      ]
    },
    {
      "cell_type": "code",
      "source": [
        "address_list = ['서울시', '서초구', '반포대로', '201(반포동)']\n",
        "\n",
        "#리스트의 각 값을 모두 연결해서 하나의 텍스트로\n",
        "a = \" \"\n",
        "a.join(address_list)"
      ],
      "metadata": {
        "colab": {
          "base_uri": "https://localhost:8080/",
          "height": 35
        },
        "id": "ZCA_Ha6x-yBC",
        "outputId": "f35fb96c-6157-4456-e4a7-05764af2ca41"
      },
      "execution_count": 14,
      "outputs": [
        {
          "output_type": "execute_result",
          "data": {
            "text/plain": [
              "'서울시 서초구 반포대로 201(반포동)'"
            ],
            "application/vnd.google.colaboratory.intrinsic+json": {
              "type": "string"
            }
          },
          "metadata": {},
          "execution_count": 14
        }
      ]
    },
    {
      "cell_type": "markdown",
      "source": [
        "## find() : 문자열 찾기\n",
        "- 문자열의 위치 값을 반환"
      ],
      "metadata": {
        "id": "p0_bvjETAZwO"
      }
    },
    {
      "cell_type": "code",
      "source": [
        "str_f = 'Python code.'\n",
        "print(\"찾는 문자열의 위치:\", str_f.find('n'))\n",
        "print(\"찾는 문자열의 위치:\", str_f.find('Java')) # -1 해당되는 문자 없음"
      ],
      "metadata": {
        "colab": {
          "base_uri": "https://localhost:8080/"
        },
        "id": "sUQIq19WAuP-",
        "outputId": "6036491f-6900-4e1d-b0b2-f6615550d365"
      },
      "execution_count": 17,
      "outputs": [
        {
          "output_type": "stream",
          "name": "stdout",
          "text": [
            "찾는 문자열의 위치: 5\n",
            "찾는 문자열의 위치: -1\n"
          ]
        }
      ]
    },
    {
      "cell_type": "markdown",
      "source": [
        "## count() : 찾고자 하는 문자열의 횟수 반환\n",
        "- 만약, 찾을 문자열이 없으면 0으로 반환"
      ],
      "metadata": {
        "id": "3VkqzmC1DG9r"
      }
    },
    {
      "cell_type": "code",
      "source": [
        "str_c = \"Python is powerful. Python is easy to learn. Python is open\"\n",
        "print(\"Python의 갯수는?\", str_c.count(\"Python\"))\n",
        "print(\"Python의 갯수는?\", str_c.count(\"powerful\"))\n",
        "print(\"Python의 갯수는?\", str_c.count(\"Java\"))"
      ],
      "metadata": {
        "colab": {
          "base_uri": "https://localhost:8080/"
        },
        "id": "AmtblbNfDXlE",
        "outputId": "9ee218a4-c261-42b3-d669-3871ff2a21ec"
      },
      "execution_count": 18,
      "outputs": [
        {
          "output_type": "stream",
          "name": "stdout",
          "text": [
            "Python의 갯수는? 3\n",
            "Python의 갯수는? 1\n",
            "Python의 갯수는? 0\n"
          ]
        }
      ]
    },
    {
      "cell_type": "markdown",
      "source": [
        "## startswith, endswith\n",
        "- 각 문자열이 지정된 문자로 시작하는지 또는 끝나는지 체크(검사)할 때 사용\n"
      ],
      "metadata": {
        "id": "djJHsR-mD6rp"
      }
    },
    {
      "cell_type": "code",
      "source": [
        "str_c = \"Python is powerful. Python is easy to learn. Python is open.\"\n",
        "print(\"Python으로 시작?\", str_c.startswith('Python'))\n",
        "print(\"Python으로 시작?\", str_c.startswith('is'))\n",
        "print(\"Python으로 시작?\", str_c.endswith('.'))\n",
        "print(\"Python으로 시작?\", str_c.endswith('!'))"
      ],
      "metadata": {
        "colab": {
          "base_uri": "https://localhost:8080/"
        },
        "id": "_btcT96_EH8Q",
        "outputId": "1297570d-0322-4d58-c81d-eee178b2ac3a"
      },
      "execution_count": 25,
      "outputs": [
        {
          "output_type": "stream",
          "name": "stdout",
          "text": [
            "Python으로 시작? True\n",
            "Python으로 시작? False\n",
            "Python으로 시작? True\n",
            "Python으로 시작? False\n"
          ]
        }
      ]
    },
    {
      "cell_type": "markdown",
      "source": [
        "## replace() : 문자열 바꾸기\n",
        "- 지정한 문자열을 찾아서 바꾸는 메서드"
      ],
      "metadata": {
        "id": "4WtLfKOZE6U9"
      }
    },
    {
      "cell_type": "code",
      "source": [
        "str_a = 'Python is fast. Python is friendly. Python is open.'\n",
        "\n",
        "# Python IPython\n",
        "print(str_a.replace('Python', 'IPython'))"
      ],
      "metadata": {
        "colab": {
          "base_uri": "https://localhost:8080/"
        },
        "id": "po-zHPRhFBQl",
        "outputId": "64332d39-4719-4418-f772-de72b5ca88a3"
      },
      "execution_count": 27,
      "outputs": [
        {
          "output_type": "stream",
          "name": "stdout",
          "text": [
            "IPython is fast. IPython is friendly. IPython is open.\n"
          ]
        }
      ]
    },
    {
      "cell_type": "code",
      "source": [
        "str_b = '[Python][is][fast]'\n",
        "str_b1 = str_b.replace('[','') #문자열에서 특정 문자 제거하는 효과\n",
        "str_b2 = str_b1.replace(']',' ')\n",
        "result = str_b2.rstrip()\n",
        "print(result)"
      ],
      "metadata": {
        "colab": {
          "base_uri": "https://localhost:8080/"
        },
        "id": "df40f94aFlhR",
        "outputId": "09298ca1-fb38-4967-8656-9c59319b0940"
      },
      "execution_count": 32,
      "outputs": [
        {
          "output_type": "stream",
          "name": "stdout",
          "text": [
            "Python is fast\n"
          ]
        }
      ]
    },
    {
      "cell_type": "markdown",
      "source": [
        "# 리스트 함수\n",
        "- 교재(p.54)\n",
        "- 처음에 프로그래밍 공부할 때\n",
        " + 1차는 교재 확인\n",
        " + 프로젝트 진행 시 ==> 공식문서에 친숙\n",
        " + 라이브러리 사용할 때, 공식문서를 보는 훈련을 계속 키워야 함.\n"
      ],
      "metadata": {
        "id": "IF4KPTnPxJ0C"
      }
    },
    {
      "cell_type": "markdown",
      "source": [
        "## append()\n",
        "- 리스트에서 항목 하나를 맨 마지막에 추가"
      ],
      "metadata": {
        "id": "N112nZNtN2n1"
      }
    },
    {
      "cell_type": "code",
      "source": [
        "\n",
        "print(myFriends)\n",
        "\n",
        "# 위 문법과 비교\n",
        "result = myFriends.append('Thomas')\n",
        "print(result)"
      ],
      "metadata": {
        "colab": {
          "base_uri": "https://localhost:8080/"
        },
        "id": "HRwtGidWNy5T",
        "outputId": "8e9590ab-2975-470f-c10b-a8785a93ca48"
      },
      "execution_count": 36,
      "outputs": [
        {
          "output_type": "stream",
          "name": "stdout",
          "text": [
            "['James', 'Robert', 'Lisa', 'Mary', 'Thomas']\n",
            "None\n"
          ]
        }
      ]
    },
    {
      "cell_type": "markdown",
      "source": [
        "## extend()\n",
        "- 리스트에서 항목 여러개를 맨 마지막에 추가"
      ],
      "metadata": {
        "id": "ThmgFfPmPYPa"
      }
    },
    {
      "cell_type": "code",
      "source": [
        "myFriends = ['James', 'Robert', 'Lisa', 'Mary']\n",
        "myFriends.append('Thomas')\n",
        "\n",
        "newFriends = ['A', 'B', 'C']\n",
        "# myFriends.append(newFriends)\n",
        "myFriends.extend(newFriends)\n",
        "myFriends"
      ],
      "metadata": {
        "colab": {
          "base_uri": "https://localhost:8080/"
        },
        "id": "iZinICcPPWLQ",
        "outputId": "2dcff77d-4cbb-4f5d-a935-bd9d873f2f5d"
      },
      "execution_count": 39,
      "outputs": [
        {
          "output_type": "execute_result",
          "data": {
            "text/plain": [
              "['James', 'Robert', 'Lisa', 'Mary', 'Thomas', 'A', 'B', 'C']"
            ]
          },
          "metadata": {},
          "execution_count": 39
        }
      ]
    },
    {
      "cell_type": "markdown",
      "source": [
        "## insert()\n",
        "- 항목의 위치를 나타내는 인데긋 i에 data를 삽입."
      ],
      "metadata": {
        "id": "LDMqIUkbQLuF"
      }
    },
    {
      "cell_type": "code",
      "source": [
        "myFriends = ['James', 'Robert', 'Lisa', 'Mary']\n",
        "myFriends.insert(1,'Evan')\n",
        "print(myFriends)"
      ],
      "metadata": {
        "colab": {
          "base_uri": "https://localhost:8080/"
        },
        "id": "MWoEBHOQTCsh",
        "outputId": "3bf33df4-9808-402d-a7bb-d55bed8a1130"
      },
      "execution_count": 40,
      "outputs": [
        {
          "output_type": "stream",
          "name": "stdout",
          "text": [
            "['James', 'Evan', 'Robert', 'Lisa', 'Mary']\n"
          ]
        }
      ]
    },
    {
      "cell_type": "markdown",
      "source": [
        "## 오전 수업 리뷰\n",
        "- 다양한 함수를 사용\n",
        " + string, list 관련 주요 메서드\n",
        "- 각 메서드명, 매개변수에 대해 처름 접함\n",
        " + 주의 / 확인 : 함수 실행 후, 반환값, Return값을 확인 해야 함 (리스트인지 텍스트인지)\n",
        "- 공식문서 확인\n",
        " + 코드를 암기하려고 하지 말고, 공식문서 보는 방법에 대해 익힘\n",
        " + 코드 암기는 언제 필요할까? : 빅데이터 분석 기사 실기 볼 때만 집중적으로 통으로 암기 or 또는 코딩 테스트"
      ],
      "metadata": {
        "id": "0Ksfz3NzTlcV"
      }
    },
    {
      "cell_type": "markdown",
      "source": [
        "# 클래스"
      ],
      "metadata": {
        "id": "4jYkzV7WxLfF"
      }
    },
    {
      "cell_type": "code",
      "execution_count": null,
      "metadata": {
        "id": "z2RG6uVNw3QF"
      },
      "outputs": [],
      "source": []
    }
  ]
}