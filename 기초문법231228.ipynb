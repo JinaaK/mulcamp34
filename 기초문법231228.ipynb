{
  "nbformat": 4,
  "nbformat_minor": 0,
  "metadata": {
    "colab": {
      "provenance": [],
      "toc_visible": true,
      "authorship_tag": "ABX9TyOJTGdIX5SjcYJqyFSire56",
      "include_colab_link": true
    },
    "kernelspec": {
      "name": "python3",
      "display_name": "Python 3"
    },
    "language_info": {
      "name": "python"
    }
  },
  "cells": [
    {
      "cell_type": "markdown",
      "metadata": {
        "id": "view-in-github",
        "colab_type": "text"
      },
      "source": [
        "<a href=\"https://colab.research.google.com/github/JinaaK/mulcamp34/blob/main/%EA%B8%B0%EC%B4%88%EB%AC%B8%EB%B2%95231228.ipynb\" target=\"_parent\"><img src=\"https://colab.research.google.com/assets/colab-badge.svg\" alt=\"Open In Colab\"/></a>"
      ]
    },
    {
      "cell_type": "markdown",
      "source": [
        "# 27일 리뷰\n",
        "- int, float, str, bool(True/False)\n",
        "- 리스트, 튜플"
      ],
      "metadata": {
        "id": "BFymbmitxbjv"
      }
    },
    {
      "cell_type": "markdown",
      "source": [
        "# 문자열 함수\n",
        "- 교재 (p.158)\n",
        "- 영어 : function, method\n"
      ],
      "metadata": {
        "id": "_s5n8Sqkw7ly"
      }
    },
    {
      "cell_type": "markdown",
      "source": [
        "## split() : 문자열 분리"
      ],
      "metadata": {
        "id": "jnRmHCVY2oOs"
      }
    },
    {
      "cell_type": "code",
      "source": [
        "coffee_menu_str = \"에스프레소,아메리카노,카페라테,카푸치노\"\n",
        "coffee_menu_str.split(',')\n",
        "\n",
        "# 결과해석\n",
        "# 내가 원하는대로 결과가 나왔는가?\n",
        "# 반환값, Return 자료형 확인 필수 (리스트로 나옴)"
      ],
      "metadata": {
        "colab": {
          "base_uri": "https://localhost:8080/"
        },
        "id": "24cgW-uCx2z_",
        "outputId": "24a13c15-f1a0-49d7-dd7d-c2267c9b9435"
      },
      "execution_count": 2,
      "outputs": [
        {
          "output_type": "execute_result",
          "data": {
            "text/plain": [
              "['에스프레소', '아메리카노', '카페라테', '카푸치노']"
            ]
          },
          "metadata": {},
          "execution_count": 2
        }
      ]
    },
    {
      "cell_type": "code",
      "source": [
        "\"에스프레소,아메리카노,카페라테,카푸치노\".split(',')"
      ],
      "metadata": {
        "colab": {
          "base_uri": "https://localhost:8080/"
        },
        "id": "Tx5kqmQ6zfzz",
        "outputId": "080a6151-cb60-46ae-929c-b6d54ac24030"
      },
      "execution_count": 4,
      "outputs": [
        {
          "output_type": "execute_result",
          "data": {
            "text/plain": [
              "['에스프레소', '아메리카노', '카페라테', '카푸치노']"
            ]
          },
          "metadata": {},
          "execution_count": 4
        }
      ]
    },
    {
      "cell_type": "code",
      "source": [
        "\"에스프레소 아메리카노 카페라테 카푸치노\".split(' ')"
      ],
      "metadata": {
        "colab": {
          "base_uri": "https://localhost:8080/"
        },
        "id": "npP4GkXszvcL",
        "outputId": "e5e379b2-5d97-4105-b32a-b80860cecab1"
      },
      "execution_count": 7,
      "outputs": [
        {
          "output_type": "execute_result",
          "data": {
            "text/plain": [
              "['에스프레소', '아메리카노', '카페라테', '카푸치노']"
            ]
          },
          "metadata": {},
          "execution_count": 7
        }
      ]
    },
    {
      "cell_type": "code",
      "source": [
        "\"에스프레소.아메리카노.카페라테.카푸치노\".split('.')"
      ],
      "metadata": {
        "colab": {
          "base_uri": "https://localhost:8080/"
        },
        "id": "2ZkQJhm90T2B",
        "outputId": "4bb5d4b8-eb96-459f-9b32-54e838802ea4"
      },
      "execution_count": 8,
      "outputs": [
        {
          "output_type": "execute_result",
          "data": {
            "text/plain": [
              "['에스프레소', '아메리카노', '카페라테', '카푸치노']"
            ]
          },
          "metadata": {},
          "execution_count": 8
        }
      ]
    },
    {
      "cell_type": "code",
      "source": [
        "phone_number = \"+82-01-2345-6789\"\n",
        "\n",
        "# +82만 추출하기\n",
        "# print(phone_number[0:3])\n",
        "result = phone_number.split('-')\n",
        "result[0]"
      ],
      "metadata": {
        "colab": {
          "base_uri": "https://localhost:8080/",
          "height": 35
        },
        "id": "-PJM2jiJ0di4",
        "outputId": "f2622e60-2fdd-426a-d4a8-3a394fa932d8"
      },
      "execution_count": 11,
      "outputs": [
        {
          "output_type": "execute_result",
          "data": {
            "text/plain": [
              "'+82'"
            ],
            "application/vnd.google.colaboratory.intrinsic+json": {
              "type": "string"
            }
          },
          "metadata": {},
          "execution_count": 11
        }
      ]
    },
    {
      "cell_type": "code",
      "source": [
        "# maxsplit, 매개변수 (arguments, parameters)\n",
        "print(phone_number.split('-', maxsplit=1))\n",
        "print(phone_number.split('-', maxsplit=2))"
      ],
      "metadata": {
        "colab": {
          "base_uri": "https://localhost:8080/"
        },
        "id": "j31QddEZ2AmA",
        "outputId": "c08da3c7-435e-4729-e6ac-5482f1b5a50e"
      },
      "execution_count": 15,
      "outputs": [
        {
          "output_type": "stream",
          "name": "stdout",
          "text": [
            "['+82', '01-2345-6789']\n",
            "['+82', '01', '2345-6789']\n"
          ]
        }
      ]
    },
    {
      "cell_type": "markdown",
      "source": [
        "## strip() : 필요없는 문자열 삭제\n",
        "- 앞뒤 공백 혹은 개행문자와 같이 불필요한 부분을 지우고 싶을 때 사용"
      ],
      "metadata": {
        "id": "8OcpV7nm2z5I"
      }
    },
    {
      "cell_type": "code",
      "source": [
        "tempText = ' Python '\n",
        "tempText.strip()"
      ],
      "metadata": {
        "colab": {
          "base_uri": "https://localhost:8080/",
          "height": 35
        },
        "id": "qVpNrwlR3fRm",
        "outputId": "54616771-29f5-4f21-d57b-5891204c53b9"
      },
      "execution_count": 17,
      "outputs": [
        {
          "output_type": "execute_result",
          "data": {
            "text/plain": [
              "'Python'"
            ],
            "application/vnd.google.colaboratory.intrinsic+json": {
              "type": "string"
            }
          },
          "metadata": {},
          "execution_count": 17
        }
      ]
    },
    {
      "cell_type": "code",
      "source": [
        "tempText = 'aaaaaPythonaaa'\n",
        "# temptText[3:9]\n",
        "tempText.strip('a')"
      ],
      "metadata": {
        "colab": {
          "base_uri": "https://localhost:8080/",
          "height": 35
        },
        "id": "wclDvafZ338u",
        "outputId": "b2a36f93-9133-4515-85b7-431da3c43a7b"
      },
      "execution_count": 4,
      "outputs": [
        {
          "output_type": "execute_result",
          "data": {
            "text/plain": [
              "'Python'"
            ],
            "application/vnd.google.colaboratory.intrinsic+json": {
              "type": "string"
            }
          },
          "metadata": {},
          "execution_count": 4
        }
      ]
    },
    {
      "cell_type": "code",
      "source": [
        "tempText = 'aaaaabbPythonbbaaaaaa'\n",
        "# temptText[3:9]\n",
        "result = tempText.strip('a')\n",
        "result.strip('b')\n",
        "\n",
        "# 코딩은 1가지의 정답이 있는 것이 아님\n",
        "# 여러가지 정답 중에서 효율적인 정답을 찾는 과정이 코딩!"
      ],
      "metadata": {
        "colab": {
          "base_uri": "https://localhost:8080/",
          "height": 35
        },
        "id": "11h4_44J4gxh",
        "outputId": "b7c9a630-0558-47e0-bce3-b901ac7a8ac5"
      },
      "execution_count": 5,
      "outputs": [
        {
          "output_type": "execute_result",
          "data": {
            "text/plain": [
              "'Python'"
            ],
            "application/vnd.google.colaboratory.intrinsic+json": {
              "type": "string"
            }
          },
          "metadata": {},
          "execution_count": 5
        }
      ]
    },
    {
      "cell_type": "code",
      "source": [
        "tempText.strip('ab') # 특수문자 활용도 가능"
      ],
      "metadata": {
        "colab": {
          "base_uri": "https://localhost:8080/",
          "height": 35
        },
        "id": "2m-iQjwO49ha",
        "outputId": "0d238c61-f045-4b41-ed56-001972ba0187"
      },
      "execution_count": 7,
      "outputs": [
        {
          "output_type": "execute_result",
          "data": {
            "text/plain": [
              "'Python'"
            ],
            "application/vnd.google.colaboratory.intrinsic+json": {
              "type": "string"
            }
          },
          "metadata": {},
          "execution_count": 7
        }
      ]
    },
    {
      "cell_type": "code",
      "source": [
        "tempText = '\\n Python \\n\\n'\n",
        "tempText.strip('\\n')"
      ],
      "metadata": {
        "colab": {
          "base_uri": "https://localhost:8080/",
          "height": 35
        },
        "id": "86eN8NfG82Yt",
        "outputId": "597658e4-1fb7-4e5d-92e0-ce1a7566d1d4"
      },
      "execution_count": 9,
      "outputs": [
        {
          "output_type": "execute_result",
          "data": {
            "text/plain": [
              "' Python '"
            ],
            "application/vnd.google.colaboratory.intrinsic+json": {
              "type": "string"
            }
          },
          "metadata": {},
          "execution_count": 9
        }
      ]
    },
    {
      "cell_type": "code",
      "source": [
        "tempText.strip(' \\n')\n",
        "\n",
        "# lstrip(), 해당 텍스트의 왼쪽\n",
        "# rstrip(), 해당 텍스트의 오른쪽"
      ],
      "metadata": {
        "colab": {
          "base_uri": "https://localhost:8080/",
          "height": 35
        },
        "id": "JINg3bVK9b7e",
        "outputId": "5a6509ca-853f-42ca-d0dc-3eb380fa54bf"
      },
      "execution_count": 11,
      "outputs": [
        {
          "output_type": "execute_result",
          "data": {
            "text/plain": [
              "'Python'"
            ],
            "application/vnd.google.colaboratory.intrinsic+json": {
              "type": "string"
            }
          },
          "metadata": {},
          "execution_count": 11
        }
      ]
    },
    {
      "cell_type": "markdown",
      "source": [
        "## join(): 문자열 연결\n",
        "- 더하기 연산자(+)로 두 문자열을 연결 가능"
      ],
      "metadata": {
        "id": "IROiFVJu-D7c"
      }
    },
    {
      "cell_type": "code",
      "source": [
        "name1 = '철수'\n",
        "name2 = '영미'\n",
        "\n",
        "hello = '님, 주소와 전화 번호를 입력해 주세요'\n",
        "\n",
        "print(name1 + hello)\n",
        "print(name2 + hello)"
      ],
      "metadata": {
        "colab": {
          "base_uri": "https://localhost:8080/"
        },
        "id": "cergFaPw-H7K",
        "outputId": "a3857c92-956e-43f2-f2df-e2dec4367b15"
      },
      "execution_count": 12,
      "outputs": [
        {
          "output_type": "stream",
          "name": "stdout",
          "text": [
            "철수님, 주소와 전화 번호를 입력해 주세요\n",
            "영미님, 주소와 전화 번호를 입력해 주세요\n"
          ]
        }
      ]
    },
    {
      "cell_type": "code",
      "source": [
        "address_list = ['서울시', '서초구', '반포대로', '201(반포동)']\n",
        "\n",
        "#리스트의 각 값을 모두 연결해서 하나의 텍스트로\n",
        "a = \" \"\n",
        "a.join(address_list)"
      ],
      "metadata": {
        "colab": {
          "base_uri": "https://localhost:8080/",
          "height": 35
        },
        "id": "ZCA_Ha6x-yBC",
        "outputId": "f35fb96c-6157-4456-e4a7-05764af2ca41"
      },
      "execution_count": 14,
      "outputs": [
        {
          "output_type": "execute_result",
          "data": {
            "text/plain": [
              "'서울시 서초구 반포대로 201(반포동)'"
            ],
            "application/vnd.google.colaboratory.intrinsic+json": {
              "type": "string"
            }
          },
          "metadata": {},
          "execution_count": 14
        }
      ]
    },
    {
      "cell_type": "markdown",
      "source": [
        "## find() : 문자열 찾기\n",
        "- 문자열의 위치 값을 반환"
      ],
      "metadata": {
        "id": "p0_bvjETAZwO"
      }
    },
    {
      "cell_type": "code",
      "source": [
        "str_f = 'Python code.'\n",
        "print(\"찾는 문자열의 위치:\", str_f.find('n'))\n",
        "print(\"찾는 문자열의 위치:\", str_f.find('Java')) # -1 해당되는 문자 없음"
      ],
      "metadata": {
        "colab": {
          "base_uri": "https://localhost:8080/"
        },
        "id": "sUQIq19WAuP-",
        "outputId": "6036491f-6900-4e1d-b0b2-f6615550d365"
      },
      "execution_count": 17,
      "outputs": [
        {
          "output_type": "stream",
          "name": "stdout",
          "text": [
            "찾는 문자열의 위치: 5\n",
            "찾는 문자열의 위치: -1\n"
          ]
        }
      ]
    },
    {
      "cell_type": "markdown",
      "source": [
        "## count() : 찾고자 하는 문자열의 횟수 반환\n",
        "- 만약, 찾을 문자열이 없으면 0으로 반환"
      ],
      "metadata": {
        "id": "3VkqzmC1DG9r"
      }
    },
    {
      "cell_type": "code",
      "source": [
        "str_c = \"Python is powerful. Python is easy to learn. Python is open\"\n",
        "print(\"Python의 갯수는?\", str_c.count(\"Python\"))\n",
        "print(\"Python의 갯수는?\", str_c.count(\"powerful\"))\n",
        "print(\"Python의 갯수는?\", str_c.count(\"Java\"))"
      ],
      "metadata": {
        "colab": {
          "base_uri": "https://localhost:8080/"
        },
        "id": "AmtblbNfDXlE",
        "outputId": "9ee218a4-c261-42b3-d669-3871ff2a21ec"
      },
      "execution_count": 18,
      "outputs": [
        {
          "output_type": "stream",
          "name": "stdout",
          "text": [
            "Python의 갯수는? 3\n",
            "Python의 갯수는? 1\n",
            "Python의 갯수는? 0\n"
          ]
        }
      ]
    },
    {
      "cell_type": "markdown",
      "source": [
        "## startswith, endswith\n",
        "- 각 문자열이 지정된 문자로 시작하는지 또는 끝나는지 체크(검사)할 때 사용\n"
      ],
      "metadata": {
        "id": "djJHsR-mD6rp"
      }
    },
    {
      "cell_type": "code",
      "source": [
        "str_c = \"Python is powerful. Python is easy to learn. Python is open.\"\n",
        "print(\"Python으로 시작?\", str_c.startswith('Python'))\n",
        "print(\"is으로 시작?\", str_c.startswith('is'))\n",
        "print(\".으로 끝?\", str_c.endswith('.'))\n",
        "print(\"!으로 끝?\", str_c.endswith('!'))"
      ],
      "metadata": {
        "colab": {
          "base_uri": "https://localhost:8080/"
        },
        "id": "_btcT96_EH8Q",
        "outputId": "d6b5ebe8-9645-449c-fdb2-d8adf30b322b"
      },
      "execution_count": 70,
      "outputs": [
        {
          "output_type": "stream",
          "name": "stdout",
          "text": [
            "Python으로 시작? True\n",
            "is으로 시작? False\n",
            ".으로 끝? True\n",
            "!으로 끝? False\n"
          ]
        }
      ]
    },
    {
      "cell_type": "markdown",
      "source": [
        "## replace() : 문자열 바꾸기\n",
        "- 지정한 문자열을 찾아서 바꾸는 메서드"
      ],
      "metadata": {
        "id": "4WtLfKOZE6U9"
      }
    },
    {
      "cell_type": "code",
      "source": [
        "str_a = 'Python is fast. Python is friendly. Python is open.'\n",
        "\n",
        "# Python IPython\n",
        "print(str_a.replace('Python', 'IPython'))"
      ],
      "metadata": {
        "colab": {
          "base_uri": "https://localhost:8080/"
        },
        "id": "po-zHPRhFBQl",
        "outputId": "64332d39-4719-4418-f772-de72b5ca88a3"
      },
      "execution_count": 27,
      "outputs": [
        {
          "output_type": "stream",
          "name": "stdout",
          "text": [
            "IPython is fast. IPython is friendly. IPython is open.\n"
          ]
        }
      ]
    },
    {
      "cell_type": "code",
      "source": [
        "str_b = '[Python][is][fast]'\n",
        "str_b1 = str_b.replace('[','') #문자열에서 특정 문자 제거하는 효과\n",
        "str_b2 = str_b1.replace(']',' ')\n",
        "result = str_b2.rstrip()\n",
        "print(result)"
      ],
      "metadata": {
        "colab": {
          "base_uri": "https://localhost:8080/"
        },
        "id": "df40f94aFlhR",
        "outputId": "09298ca1-fb38-4967-8656-9c59319b0940"
      },
      "execution_count": 32,
      "outputs": [
        {
          "output_type": "stream",
          "name": "stdout",
          "text": [
            "Python is fast\n"
          ]
        }
      ]
    },
    {
      "cell_type": "markdown",
      "source": [
        "# 리스트 함수\n",
        "- 교재(p.54)\n",
        "- 처음에 프로그래밍 공부할 때\n",
        " + 1차는 교재 확인\n",
        " + 프로젝트 진행 시 ==> 공식문서에 친숙\n",
        " + 라이브러리 사용할 때, 공식문서를 보는 훈련을 계속 키워야 함.\n"
      ],
      "metadata": {
        "id": "IF4KPTnPxJ0C"
      }
    },
    {
      "cell_type": "markdown",
      "source": [
        "## append()\n",
        "- 리스트에서 항목 하나를 맨 마지막에 추가\n",
        "- 리스트 안에 어떤 자료형도 추가 가능 (리스트 안에 리스트도 가능)"
      ],
      "metadata": {
        "id": "N112nZNtN2n1"
      }
    },
    {
      "cell_type": "code",
      "source": [
        "\n",
        "print(myFriends)\n",
        "\n",
        "# 위 문법과 비교\n",
        "result = myFriends.append('Thomas')\n",
        "print(result)"
      ],
      "metadata": {
        "colab": {
          "base_uri": "https://localhost:8080/"
        },
        "id": "HRwtGidWNy5T",
        "outputId": "8e9590ab-2975-470f-c10b-a8785a93ca48"
      },
      "execution_count": 36,
      "outputs": [
        {
          "output_type": "stream",
          "name": "stdout",
          "text": [
            "['James', 'Robert', 'Lisa', 'Mary', 'Thomas']\n",
            "None\n"
          ]
        }
      ]
    },
    {
      "cell_type": "markdown",
      "source": [
        "## extend()\n",
        "- 리스트에서 항목 여러개를 맨 마지막에 추가\n",
        "- 리스트만 추가 가능"
      ],
      "metadata": {
        "id": "ThmgFfPmPYPa"
      }
    },
    {
      "cell_type": "code",
      "source": [
        "myFriends = ['James', 'Robert', 'Lisa', 'Mary']\n",
        "myFriends.append('Thomas')\n",
        "\n",
        "newFriends = ['A', 'B', 'C']\n",
        "# myFriends.append(newFriends)\n",
        "myFriends.extend(newFriends)\n",
        "myFriends"
      ],
      "metadata": {
        "colab": {
          "base_uri": "https://localhost:8080/"
        },
        "id": "iZinICcPPWLQ",
        "outputId": "2dcff77d-4cbb-4f5d-a935-bd9d873f2f5d"
      },
      "execution_count": 39,
      "outputs": [
        {
          "output_type": "execute_result",
          "data": {
            "text/plain": [
              "['James', 'Robert', 'Lisa', 'Mary', 'Thomas', 'A', 'B', 'C']"
            ]
          },
          "metadata": {},
          "execution_count": 39
        }
      ]
    },
    {
      "cell_type": "markdown",
      "source": [
        "## insert()\n",
        "- 항목의 위치를 나타내는 인덱스에 data를 삽입."
      ],
      "metadata": {
        "id": "LDMqIUkbQLuF"
      }
    },
    {
      "cell_type": "code",
      "source": [
        "myFriends = ['James', 'Robert', 'Lisa', 'Mary']\n",
        "myFriends.insert(1,'Evan')\n",
        "print(myFriends)"
      ],
      "metadata": {
        "colab": {
          "base_uri": "https://localhost:8080/"
        },
        "id": "MWoEBHOQTCsh",
        "outputId": "3bf33df4-9808-402d-a7bb-d55bed8a1130"
      },
      "execution_count": 40,
      "outputs": [
        {
          "output_type": "stream",
          "name": "stdout",
          "text": [
            "['James', 'Evan', 'Robert', 'Lisa', 'Mary']\n"
          ]
        }
      ]
    },
    {
      "cell_type": "code",
      "source": [
        "ex_list = ['a', 'b', 'c', 'd'] # -1 => given position, 3번째 인덱스 값을 참조\n",
        "ex_list.insert(-1, 'e') #append('e')를 넣으면 맨 마지막에 들어가게 됨\n",
        "print(ex_list)"
      ],
      "metadata": {
        "colab": {
          "base_uri": "https://localhost:8080/"
        },
        "id": "tv_0yEtOl4S_",
        "outputId": "29de62fe-3f69-4b93-98a5-b8560bdab543"
      },
      "execution_count": 8,
      "outputs": [
        {
          "output_type": "stream",
          "name": "stdout",
          "text": [
            "['a', 'b', 'c', 'e', 'd']\n"
          ]
        }
      ]
    },
    {
      "cell_type": "markdown",
      "source": [
        "## 오전 수업 리뷰\n",
        "- 다양한 함수를 사용\n",
        " + string, list 관련 주요 메서드\n",
        "- 각 메서드명, 매개변수에 대해 처름 접함\n",
        " + 주의 / 확인 : 함수 실행 후, 반환값, Return값을 확인 해야 함 (리스트인지 텍스트인지.. type으로 확인)\n",
        "- 공식문서 확인\n",
        " + 코드를 암기하려고 하지 말고, 공식문서 보는 방법에 대해 익힘\n",
        " + 코드 암기는 언제 필요할까? : 빅데이터 분석 기사 실기 볼 때만 집중적으로 통으로 암기 or 또는 코딩 테스트"
      ],
      "metadata": {
        "id": "0Ksfz3NzTlcV"
      }
    },
    {
      "cell_type": "markdown",
      "source": [
        "# 클래스"
      ],
      "metadata": {
        "id": "4jYkzV7WxLfF"
      }
    },
    {
      "cell_type": "markdown",
      "source": [
        "## 함수\n",
        "- 다른 개발자 분들이 만들어 놓은 함수를 갖다 씀\n",
        "- 이번 시간에 해야 하는 것 : 우리가 함수를 직접 만들자!\n",
        " + 의미있는 함수를 만드는 것이 프로젝트\n",
        "- 프로그래밍을 한다! ==> 재 실행할거다!, 재 실행 또는 반복 실행을 하기 위한 방법론 : 함수\n",
        "- 언제 함수를 만들어야 할까?\n",
        " + 매일 뭔가 반복적일 것 같은 느낌이 들 때 함수를 만들면 됨\n",
        " + 분석 프로젝트 시, 새로운 파생변수 만드는 메서드를 정의\n",
        " + 개발자 분들: 속도를 빠르게 만들어주는 함수, ETL을 효율적으로 해주는 함수\n"
      ],
      "metadata": {
        "id": "y0b_AfksnbCk"
      }
    },
    {
      "cell_type": "code",
      "source": [
        "# 함수의 구조\n",
        "# 매개변수 = 인자\n",
        "# 116p\n",
        "def 함수명([인자1, 인자2, ..., 인자n]):\n",
        "  # 코드 블록 (들여쓰기 두번하는 공간 = indentation)\n",
        "  return 반환값"
      ],
      "metadata": {
        "id": "3CbDjsg1nIEq"
      },
      "execution_count": null,
      "outputs": []
    },
    {
      "cell_type": "code",
      "execution_count": 47,
      "metadata": {
        "colab": {
          "base_uri": "https://localhost:8080/"
        },
        "id": "z2RG6uVNw3QF",
        "outputId": "21e6e64e-b94e-475d-a46e-9d5dc594bb56"
      },
      "outputs": [
        {
          "output_type": "stream",
          "name": "stdout",
          "text": [
            "2\n"
          ]
        }
      ],
      "source": [
        "def mySum(a, b):\n",
        "  c = a + b\n",
        "  return c\n",
        "\n",
        "a = 1\n",
        "b = 1\n",
        "\n",
        "result = mySum(a, b)\n",
        "print(result)"
      ]
    },
    {
      "cell_type": "markdown",
      "source": [
        "- 뺄셈 함수를 만들어 보세요\n",
        "+ 함수명: mySubtract"
      ],
      "metadata": {
        "id": "gaCFIX_jrnxT"
      }
    },
    {
      "cell_type": "code",
      "source": [
        "def mySubtract(a, b):\n",
        "  c = a - b\n",
        "  return c\n",
        "\n",
        "a = 5\n",
        "b = 2\n",
        "\n",
        "result = mySubtract(a, b)\n",
        "print(result)"
      ],
      "metadata": {
        "colab": {
          "base_uri": "https://localhost:8080/"
        },
        "id": "TFn1sGlMrrM-",
        "outputId": "e76b2034-f689-4a87-cd2f-8ccfee514ad7"
      },
      "execution_count": 52,
      "outputs": [
        {
          "output_type": "stream",
          "name": "stdout",
          "text": [
            "3\n"
          ]
        }
      ]
    },
    {
      "cell_type": "code",
      "source": [
        "x = 3\n",
        "y = 1\n",
        "\n",
        "result = mySubtract(x, y)\n",
        "print(result)"
      ],
      "metadata": {
        "colab": {
          "base_uri": "https://localhost:8080/"
        },
        "id": "SVOsWLDzs1YN",
        "outputId": "5e39df5a-91d6-4813-f201-65a5ddfab530"
      },
      "execution_count": 54,
      "outputs": [
        {
          "output_type": "stream",
          "name": "stdout",
          "text": [
            "2\n"
          ]
        }
      ]
    },
    {
      "cell_type": "code",
      "source": [
        "def mySubtract(a, b):# 무조건 a, b가 입력이 되어야 함, 필수조건\n",
        "  c = a - b\n",
        "  return c"
      ],
      "metadata": {
        "id": "pANp-Gj-tMfy"
      },
      "execution_count": 2,
      "outputs": []
    },
    {
      "cell_type": "code",
      "source": [
        "m = 1\n",
        "b = 0\n",
        "\n",
        "result = mySubtract(m, b)\n",
        "print(result)"
      ],
      "metadata": {
        "colab": {
          "base_uri": "https://localhost:8080/"
        },
        "id": "4SqA34DJtWRM",
        "outputId": "155f0e5e-1239-4b28-8be1-163eb07197c3"
      },
      "execution_count": 5,
      "outputs": [
        {
          "output_type": "stream",
          "name": "stdout",
          "text": [
            "1\n"
          ]
        }
      ]
    },
    {
      "cell_type": "code",
      "source": [
        "def mySubtract(a, b=0): # b의 초기값을 0으로 설정 b = None (None=아무것도 정해지지 않았다는 뜻)\n",
        "  c = a - b\n",
        "  return c\n",
        "\n",
        "M = 1\n",
        "N = 100\n",
        "result = mySubtract(M, N) # b가 0에서 100으로 변경됨\n",
        "print(result)"
      ],
      "metadata": {
        "colab": {
          "base_uri": "https://localhost:8080/"
        },
        "id": "yO3U6V6dvFcZ",
        "outputId": "79440770-39e0-49c8-a40d-d27f4ef2d773"
      },
      "execution_count": 9,
      "outputs": [
        {
          "output_type": "stream",
          "name": "stdout",
          "text": [
            "-99\n"
          ]
        }
      ]
    },
    {
      "cell_type": "code",
      "source": [
        "def my_func():\n",
        "  print(\"my first function\")\n",
        "  print(\"This is a function\")"
      ],
      "metadata": {
        "id": "p0PPguEuzsYB"
      },
      "execution_count": 11,
      "outputs": []
    },
    {
      "cell_type": "code",
      "source": [
        "result = mySubtract(M, N) # 반환값이 있는 메서드\n",
        "my_func() # 반환값이 없는 메서드"
      ],
      "metadata": {
        "colab": {
          "base_uri": "https://localhost:8080/"
        },
        "id": "jeps2Mo40LXP",
        "outputId": "02bc538f-bb5b-44de-d546-8529e9506ba6"
      },
      "execution_count": 12,
      "outputs": [
        {
          "output_type": "stream",
          "name": "stdout",
          "text": [
            "my first function\n",
            "This is a function\n"
          ]
        }
      ]
    },
    {
      "cell_type": "code",
      "source": [
        "def mySum(a, b = 0):\n",
        "  c = a + b\n",
        "  print(f'함수 잘 작동 중?{c}')\n",
        "\n",
        "a = 1\n",
        "result = mySum(a)\n",
        "print(result)"
      ],
      "metadata": {
        "colab": {
          "base_uri": "https://localhost:8080/"
        },
        "id": "EDYLwfgr00qi",
        "outputId": "f4d1a5e0-3cb8-41df-978e-515ce5fec190"
      },
      "execution_count": 16,
      "outputs": [
        {
          "output_type": "stream",
          "name": "stdout",
          "text": [
            "함수 잘 작동 중?1\n",
            "None\n"
          ]
        }
      ]
    },
    {
      "cell_type": "markdown",
      "source": [
        "### 변수의 유효범위\n",
        "- p.121\n",
        "- 지역변수 & 전역변수\n",
        "- Local Variable & Globbal Variable"
      ],
      "metadata": {
        "id": "XuD0FDnk2Amu"
      }
    },
    {
      "cell_type": "code",
      "source": [
        "a = 5 # 전역변수\n",
        "\n",
        "def func1():\n",
        "  a = 1 #지역변수\n",
        "  print(f'func1 지역 변수 a = {a}')\n",
        "\n",
        "func1()\n",
        "print(f'전역 변수 a = {a}')"
      ],
      "metadata": {
        "colab": {
          "base_uri": "https://localhost:8080/"
        },
        "id": "Bvt97yvS2W3y",
        "outputId": "21501355-6de9-487b-b63b-b32bc7ccb77e"
      },
      "execution_count": 33,
      "outputs": [
        {
          "output_type": "stream",
          "name": "stdout",
          "text": [
            "func1 지역 변수 a = 1\n",
            "전역 변수 a = 5\n"
          ]
        }
      ]
    },
    {
      "cell_type": "code",
      "source": [
        "a = 5 # 전역변수\n",
        "\n",
        "def func1():\n",
        "  #a = 1 #지역변수\n",
        "  print(f'func1 지역 변수 a = {a}')\n",
        "\n",
        "func1()\n",
        "print(f'전역 변수 a = {a}')"
      ],
      "metadata": {
        "colab": {
          "base_uri": "https://localhost:8080/"
        },
        "id": "4lkytXRe3pyM",
        "outputId": "bb1d0234-4c89-4833-8d64-89fd6ce1390d"
      },
      "execution_count": 38,
      "outputs": [
        {
          "output_type": "stream",
          "name": "stdout",
          "text": [
            "func1 지역 변수 a = 5\n",
            "전역 변수 a = 5\n"
          ]
        }
      ]
    },
    {
      "cell_type": "code",
      "source": [
        "a = 5 # 전역변수\n",
        "\n",
        "def func1():\n",
        "  a = 1 #지역변수\n",
        "  print(f'func1 지역 변수 a = {a}')\n",
        "\n",
        "def func2():\n",
        "  a = 4 #지역변수\n",
        "  print(f'func2 전역 변수 a = {a}')\n",
        "\n",
        "def func3():\n",
        "  print(f'func3 전역 변수 a = {a}')\n",
        "\n",
        "def func4():\n",
        "  global a # 함수 내에서 전역 변수를 변경하기 위함\n",
        "  a = 500\n",
        "  print(f'func4 지역 변수 a = {a}')\n",
        "\n",
        "func1()\n",
        "func2()\n",
        "func3()\n",
        "func4()\n",
        "print(f'전역 변수 a = {a}') # 여기도 500이 나오더라 이것이 포인트"
      ],
      "metadata": {
        "colab": {
          "base_uri": "https://localhost:8080/"
        },
        "id": "6UsDMjp94A7C",
        "outputId": "7ce1bda5-f017-4384-eeac-b9dacfc83477"
      },
      "execution_count": 40,
      "outputs": [
        {
          "output_type": "stream",
          "name": "stdout",
          "text": [
            "func1 지역 변수 a = 1\n",
            "func2 전역 변수 a = 4\n",
            "func3 전역 변수 a = 5\n",
            "func4 지역 변수 a = 500\n",
            "전역 변수 a = 500\n"
          ]
        }
      ]
    },
    {
      "cell_type": "markdown",
      "source": [
        "### 람다 함수\n",
        "- 'def' 함수 같은 경우에는 복잡한 함수 로직을 만들 때 주로 사용\n",
        "- 단순 기능을 수행 할 때, lambda 함수\n",
        " + 함수를 한줄로 처리"
      ],
      "metadata": {
        "id": "20FfdrVp65f3"
      }
    },
    {
      "cell_type": "code",
      "source": [
        "(lambda x : x ** 2)(3)"
      ],
      "metadata": {
        "colab": {
          "base_uri": "https://localhost:8080/"
        },
        "id": "RfrQDL2i7HEB",
        "outputId": "b5ac6ea4-4f4b-4882-d53b-aed483c5ea75"
      },
      "execution_count": 43,
      "outputs": [
        {
          "output_type": "execute_result",
          "data": {
            "text/plain": [
              "9"
            ]
          },
          "metadata": {},
          "execution_count": 43
        }
      ]
    },
    {
      "cell_type": "code",
      "source": [
        "(lambda 인자(=매개변수) : 인자를 활용한 코드) (원하는 인자 코드 입력)"
      ],
      "metadata": {
        "id": "heH7k7mK7xjZ"
      },
      "execution_count": null,
      "outputs": []
    },
    {
      "cell_type": "code",
      "source": [
        "mySquare = lambda x : x ** 2\n",
        "mySquare(5)"
      ],
      "metadata": {
        "colab": {
          "base_uri": "https://localhost:8080/"
        },
        "id": "w0opd_O18NmB",
        "outputId": "726effbf-8306-46bc-87f6-bc642fb8e9ac"
      },
      "execution_count": 49,
      "outputs": [
        {
          "output_type": "execute_result",
          "data": {
            "text/plain": [
              "25"
            ]
          },
          "metadata": {},
          "execution_count": 49
        }
      ]
    },
    {
      "cell_type": "code",
      "source": [
        "def myPower(x):\n",
        "  y = x ** 2\n",
        "  print(y)\n",
        "#  return y\n",
        "\n",
        "myPower(3)"
      ],
      "metadata": {
        "colab": {
          "base_uri": "https://localhost:8080/"
        },
        "id": "m0vrPy3n7XUw",
        "outputId": "b3f659e3-c3aa-4d0a-f356-f556260d704e"
      },
      "execution_count": 48,
      "outputs": [
        {
          "output_type": "stream",
          "name": "stdout",
          "text": [
            "9\n"
          ]
        }
      ]
    },
    {
      "cell_type": "markdown",
      "source": [
        "## 클래스 선언과 객체 생성\n",
        "- 교재 p135\n",
        "- 함수의 확장\n",
        "- 함수와 클래스 비유적으로 비교\n",
        " + 함수, 각 덧셈함수, 뺄셈함수, 곱셈함수 등\n",
        " + 클래스 : 사칙연산 클래스 (예: 계산기)\n",
        " + 라이브러리 : 클래스들의 묶음\n",
        "   + 사칙연산 클래스\n",
        "   + 미분 클래스\n",
        "   + 적분 클래스\n",
        "   + etc..\n",
        "   + 수학 라이브러리\n"
      ],
      "metadata": {
        "id": "aFjNHylRBCDw"
      }
    },
    {
      "cell_type": "code",
      "source": [
        "# 자전거의 속성 : data (바퀴의 크기, 자전거의 색상)\n",
        "# 자전거의 동작 : method (=function), 지정된 속도로 이동, 좌/우회전, 정지 기능"
      ],
      "metadata": {
        "id": "4sQcK7aEDchG"
      },
      "execution_count": 50,
      "outputs": []
    },
    {
      "cell_type": "code",
      "source": [
        "class Bicycle(): # 클래스 선언\n",
        " #클래스 변수\n",
        " 데이터1 = 바퀴의 크기\n",
        " 데이터2 = 자전거의 색상\n",
        "\n",
        " # 클래스 메서드\n",
        " def 속도():\n",
        "  pass\n",
        "\n",
        " def 방향():\n",
        "  pass\n",
        "\n",
        " def 정지():\n",
        "  pass\n",
        "\n",
        "객체명 = Bicycle(데이터1, 데이터2) # 입력한 형태로 새로운 객체가 막 생기는 것\n",
        "\n",
        "#예시\n",
        "벤츠자전거 = Bicycle(데이터1, 데이터2) # 매장 옵션\n",
        "\n",
        "#문의\n",
        "벤츠자전거 하늘로 비행하나요? ==> 이런 기능은 미존재\n"
      ],
      "metadata": {
        "id": "9TWmE_ggD--1"
      },
      "execution_count": null,
      "outputs": []
    },
    {
      "cell_type": "code",
      "source": [
        "fruits = [1, 2, 3, 4, 5, 6, 7]\n",
        "\n",
        "# 리스트를 만든 사람이 count() 동작을 만듬\n",
        "fruits.count('apple')\n",
        "\n",
        "# 리스트에서 숫자가 있음\n"
      ],
      "metadata": {
        "id": "03xU0OLyF6Wv"
      },
      "execution_count": null,
      "outputs": []
    },
    {
      "cell_type": "markdown",
      "source": [
        "### why Class? 프로그래밍 관점"
      ],
      "metadata": {
        "id": "wXHJaDvxHBSE"
      }
    },
    {
      "cell_type": "code",
      "source": [
        "result = 0\n",
        "def add(num): # 계산기 1대를 보유한 상태\n",
        "  global result\n",
        "\n",
        "  result = result + num #결과값(result)에 입력값(num) 더하기\n",
        "  return result\n",
        "\n",
        "print(add(3)) # + 5 ==> 8\n",
        "print(add(5))"
      ],
      "metadata": {
        "colab": {
          "base_uri": "https://localhost:8080/"
        },
        "id": "zNfIR3b9JYXd",
        "outputId": "76cc343c-73bf-4622-f3ed-d4a230f19a34"
      },
      "execution_count": 52,
      "outputs": [
        {
          "output_type": "stream",
          "name": "stdout",
          "text": [
            "3\n",
            "8\n"
          ]
        }
      ]
    },
    {
      "cell_type": "markdown",
      "source": [
        "- 계산기 1대가 더 필요한 상태"
      ],
      "metadata": {
        "id": "mHqd7fLqJ8Zo"
      }
    },
    {
      "cell_type": "code",
      "source": [
        "result1 = 0\n",
        "result2 = 0\n",
        "\n",
        "def add1(num):\n",
        "  global result1\n",
        "\n",
        "  result1 = result1 + num # 결괏값(result)에 입력값(num) 더하기\n",
        "  return result1\n",
        "\n",
        "def add2(num):\n",
        "  global result2\n",
        "\n",
        "  result2 = result2 + num # 결괏값(result)에 입력값(num) 더하기\n",
        "  return result2\n",
        "\n",
        "\n",
        "print(add1(3))\n",
        "print(add1(5))\n",
        "print(add2(3))\n",
        "print(add2(8))"
      ],
      "metadata": {
        "colab": {
          "base_uri": "https://localhost:8080/"
        },
        "id": "JnCAKJeKJ7C6",
        "outputId": "308e719a-0d36-4475-a2e3-d15d788dab65"
      },
      "execution_count": 53,
      "outputs": [
        {
          "output_type": "stream",
          "name": "stdout",
          "text": [
            "3\n",
            "8\n",
            "3\n",
            "11\n"
          ]
        }
      ]
    },
    {
      "cell_type": "markdown",
      "source": [
        "- 위 코드의 문제점 : 같은 기능 (덧셈)을 수행하는 함수가 중복될 수 있음 / 코드의 가독성이 매우 급격하게 떨어지기 시작"
      ],
      "metadata": {
        "id": "x2OzONItKbP4"
      }
    },
    {
      "cell_type": "code",
      "source": [
        "class Calculator:\n",
        "\n",
        "  def __init__(self):\n",
        "    self.result = 0 # result 값을 초기화\n",
        "\n",
        "  # 클래스 메서드\n",
        "  def add(self, num):\n",
        "    self.result = self.result + num\n",
        "    return self.result\n",
        "\n",
        "cal1 = Calculator() # 인스턴스화, 계산기 번호 1\n",
        "cal2 = Calculator() # 인스턴스화, 계산기 번호 2\n",
        "cal3 = Calculator() # 인스턴스화, 계산기 번호 3\n",
        "cal4 = Calculator() # 인스턴스화, 계산기 번호 4\n",
        "cal5 = Calculator() # 인스턴스화, 계산기 번호 5\n",
        "\n",
        "# 클래스의 위대함\n",
        "# 독립적으로 구현이 되면서, 동시에 실행이 되고 있음\n",
        "# 기능은 덧셈 기능\n",
        "# 계산기 객수를 무한으로 생성 가능\n",
        "\n",
        "print(cal1.add(3))\n",
        "print(cal1.add(5))\n",
        "print(cal2.add(3))\n",
        "print(cal2.add(100))"
      ],
      "metadata": {
        "colab": {
          "base_uri": "https://localhost:8080/"
        },
        "id": "OVtQ0QKqPPKO",
        "outputId": "ae5759bf-5c58-40d9-bd23-cf04ab1210b6"
      },
      "execution_count": 59,
      "outputs": [
        {
          "output_type": "stream",
          "name": "stdout",
          "text": [
            "3\n",
            "8\n",
            "3\n",
            "103\n"
          ]
        }
      ]
    },
    {
      "cell_type": "code",
      "source": [
        "print(cal3.multiple(100))"
      ],
      "metadata": {
        "colab": {
          "base_uri": "https://localhost:8080/",
          "height": 184
        },
        "id": "O2fCVPvTS5XV",
        "outputId": "770301e7-7993-4e5f-90ee-fd13353661c9"
      },
      "execution_count": 60,
      "outputs": [
        {
          "output_type": "error",
          "ename": "AttributeError",
          "evalue": "ignored",
          "traceback": [
            "\u001b[0;31m---------------------------------------------------------------------------\u001b[0m",
            "\u001b[0;31mAttributeError\u001b[0m                            Traceback (most recent call last)",
            "\u001b[0;32m<ipython-input-60-da385e1c90de>\u001b[0m in \u001b[0;36m<cell line: 1>\u001b[0;34m()\u001b[0m\n\u001b[0;32m----> 1\u001b[0;31m \u001b[0mprint\u001b[0m\u001b[0;34m(\u001b[0m\u001b[0mcal3\u001b[0m\u001b[0;34m.\u001b[0m\u001b[0mmultiple\u001b[0m\u001b[0;34m(\u001b[0m\u001b[0;36m100\u001b[0m\u001b[0;34m)\u001b[0m\u001b[0;34m)\u001b[0m\u001b[0;34m\u001b[0m\u001b[0;34m\u001b[0m\u001b[0m\n\u001b[0m",
            "\u001b[0;31mAttributeError\u001b[0m: 'Calculator' object has no attribute 'multiple'"
          ]
        }
      ]
    },
    {
      "cell_type": "code",
      "source": [
        "print(cal3.add(100))"
      ],
      "metadata": {
        "colab": {
          "base_uri": "https://localhost:8080/"
        },
        "id": "kV01Ta3kTuRo",
        "outputId": "ccbcd657-bd75-4308-fc83-062dd415178b"
      },
      "execution_count": 62,
      "outputs": [
        {
          "output_type": "stream",
          "name": "stdout",
          "text": [
            "100\n"
          ]
        }
      ]
    },
    {
      "cell_type": "markdown",
      "source": [
        "## 객체 초기화\n",
        "- '__init__()' : 객체 생성과 동시에 속성값을 지정할 수 있다.\n",
        " + 주로 클래스 선언 시 변수 초기화"
      ],
      "metadata": {
        "id": "9a0cVOYTU3ty"
      }
    },
    {
      "cell_type": "code",
      "source": [
        "class Bicycle():\n",
        "\n",
        "  #변수 초기화\n",
        "  def __init__(self, wheel_size, color):\n",
        "    self.wheel_size = wheel_size\n",
        "    self.color = color\n",
        "\n",
        "  def stop(self):\n",
        "    print('자전거({0}, {1}) : 정지'.format(self.wheel_size, self.color))"
      ],
      "metadata": {
        "id": "qKAMomJDU_Lu"
      },
      "execution_count": 68,
      "outputs": []
    },
    {
      "cell_type": "code",
      "source": [
        "my_bicycle = Bicycle(26, 'black')\n",
        "ur_bicycle = Bicycle(30, 'pink')\n",
        "\n",
        "my_bicycle.stop()\n",
        "ur_bicycle.stop()"
      ],
      "metadata": {
        "colab": {
          "base_uri": "https://localhost:8080/"
        },
        "id": "Obh2E4DhWF4n",
        "outputId": "f2d9f0b9-5278-4661-a950-a78c7af79fef"
      },
      "execution_count": 69,
      "outputs": [
        {
          "output_type": "stream",
          "name": "stdout",
          "text": [
            "자전거(26, black) : 정지\n",
            "자전거(30, pink) : 정지\n"
          ]
        }
      ]
    }
  ]
}