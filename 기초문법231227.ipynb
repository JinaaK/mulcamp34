{
  "nbformat": 4,
  "nbformat_minor": 0,
  "metadata": {
    "colab": {
      "provenance": [],
      "toc_visible": true,
      "authorship_tag": "ABX9TyPeQQ+11sSSEyTOhpO1hgp1",
      "include_colab_link": true
    },
    "kernelspec": {
      "name": "python3",
      "display_name": "Python 3"
    },
    "language_info": {
      "name": "python"
    }
  },
  "cells": [
    {
      "cell_type": "markdown",
      "metadata": {
        "id": "view-in-github",
        "colab_type": "text"
      },
      "source": [
        "<a href=\"https://colab.research.google.com/github/JinaaK/mulcamp34/blob/main/%EA%B8%B0%EC%B4%88%EB%AC%B8%EB%B2%95231227.ipynb\" target=\"_parent\"><img src=\"https://colab.research.google.com/assets/colab-badge.svg\" alt=\"Open In Colab\"/></a>"
      ]
    },
    {
      "cell_type": "markdown",
      "source": [
        "# Chapter 3. 파이썬을 계산기처럼"
      ],
      "metadata": {
        "id": "-aaBHE6zoGcm"
      }
    },
    {
      "cell_type": "markdown",
      "source": [
        "## 사칙연산\n"
      ],
      "metadata": {
        "id": "IJop6524rSQo"
      }
    },
    {
      "cell_type": "code",
      "execution_count": 1,
      "metadata": {
        "colab": {
          "base_uri": "https://localhost:8080/"
        },
        "id": "N0edtqkJnw3L",
        "outputId": "d0d86704-3807-4e32-9dba-5c0b0ed3e5ef"
      },
      "outputs": [
        {
          "output_type": "execute_result",
          "data": {
            "text/plain": [
              "2"
            ]
          },
          "metadata": {},
          "execution_count": 1
        }
      ],
      "source": [
        "1+1 # 정수 연산 결과값은 정수로 반환"
      ]
    },
    {
      "cell_type": "code",
      "source": [
        "5-2"
      ],
      "metadata": {
        "colab": {
          "base_uri": "https://localhost:8080/"
        },
        "id": "WbVs1ZJHrVrq",
        "outputId": "17e781a5-4258-4644-8a52-bbc28f2a09b0"
      },
      "execution_count": 2,
      "outputs": [
        {
          "output_type": "execute_result",
          "data": {
            "text/plain": [
              "3"
            ]
          },
          "metadata": {},
          "execution_count": 2
        }
      ]
    },
    {
      "cell_type": "code",
      "source": [
        "5 -2"
      ],
      "metadata": {
        "colab": {
          "base_uri": "https://localhost:8080/"
        },
        "id": "FBrv3kUNrYxB",
        "outputId": "ef4c3c16-c942-499c-ca5d-49b71cfdc492"
      },
      "execution_count": 3,
      "outputs": [
        {
          "output_type": "execute_result",
          "data": {
            "text/plain": [
              "3"
            ]
          },
          "metadata": {},
          "execution_count": 3
        }
      ]
    },
    {
      "cell_type": "code",
      "source": [
        "15*2"
      ],
      "metadata": {
        "colab": {
          "base_uri": "https://localhost:8080/"
        },
        "id": "R7_ym3GlrbnT",
        "outputId": "49ed60a0-6121-4f89-ffdf-cdeecbcfbe95"
      },
      "execution_count": 4,
      "outputs": [
        {
          "output_type": "execute_result",
          "data": {
            "text/plain": [
              "30"
            ]
          },
          "metadata": {},
          "execution_count": 4
        }
      ]
    },
    {
      "cell_type": "code",
      "source": [
        "# 나눗셈\n",
        "10/2 # 정수 / 정수 ===> 반환값은 실수형으로 반환"
      ],
      "metadata": {
        "colab": {
          "base_uri": "https://localhost:8080/"
        },
        "id": "zQFJkdGkrjLs",
        "outputId": "fa591ea4-5b97-4301-e340-bb52e969458b"
      },
      "execution_count": 6,
      "outputs": [
        {
          "output_type": "execute_result",
          "data": {
            "text/plain": [
              "5.0"
            ]
          },
          "metadata": {},
          "execution_count": 6
        }
      ]
    },
    {
      "cell_type": "markdown",
      "source": [
        "- 실수연산"
      ],
      "metadata": {
        "id": "3P2iJxLtsO54"
      }
    },
    {
      "cell_type": "code",
      "source": [
        "print(1.2 + 5.2) # 웹개발, IDE 환경에서 코드 작성시 print()는 필수\n",
        "print(2.3 - 1.2)\n",
        "print(1.2 * 1.5)\n",
        "print( 5/3 / 1.2)"
      ],
      "metadata": {
        "colab": {
          "base_uri": "https://localhost:8080/"
        },
        "id": "opXBw_r2sQB-",
        "outputId": "97dff9c1-ac30-4e53-cb30-17a637eb86a3"
      },
      "execution_count": 12,
      "outputs": [
        {
          "output_type": "stream",
          "name": "stdout",
          "text": [
            "6.4\n",
            "1.0999999999999999\n",
            "1.7999999999999998\n",
            "1.388888888888889\n"
          ]
        }
      ]
    },
    {
      "cell_type": "markdown",
      "source": [
        "### 연산규칙\n",
        "- (1) 괄호안 계산\n",
        "- (2) 지수 계산\n",
        "- (3) 곱셋과 나눗셈 계산\n",
        "- (4) 덧셈과 뺄셈 계산\n",
        "- (5) 같은 순위 연산이면, 왼쪽에서 오른쪽으로\n",
        "- (6) 중복된 괄호가 있을 경우, 안쪽에서부터 처리"
      ],
      "metadata": {
        "id": "pE6ctoQ-tcpv"
      }
    },
    {
      "cell_type": "code",
      "source": [
        "print(2 + 3 * 4)"
      ],
      "metadata": {
        "colab": {
          "base_uri": "https://localhost:8080/"
        },
        "id": "CvhrtrQst1bb",
        "outputId": "60109f50-e90b-474f-f56f-ce22670bc106"
      },
      "execution_count": 14,
      "outputs": [
        {
          "output_type": "stream",
          "name": "stdout",
          "text": [
            "14\n"
          ]
        }
      ]
    },
    {
      "cell_type": "code",
      "source": [
        "print(3 / 2 * 4 - 5 / 2)"
      ],
      "metadata": {
        "colab": {
          "base_uri": "https://localhost:8080/"
        },
        "id": "IXXFMhDQt42y",
        "outputId": "5259e41c-23d8-4d42-ee38-79b696fc9a38"
      },
      "execution_count": 16,
      "outputs": [
        {
          "output_type": "stream",
          "name": "stdout",
          "text": [
            "3.5\n"
          ]
        }
      ]
    },
    {
      "cell_type": "code",
      "source": [
        "print((5 * 4 - 15) + ((5 - 2) * (9 - 7)))"
      ],
      "metadata": {
        "colab": {
          "base_uri": "https://localhost:8080/"
        },
        "id": "Wxn-t2K9uPrT",
        "outputId": "3dcaeb92-2022-4dff-8d2b-30a588d68de7"
      },
      "execution_count": 18,
      "outputs": [
        {
          "output_type": "stream",
          "name": "stdout",
          "text": [
            "11\n"
          ]
        }
      ]
    },
    {
      "cell_type": "markdown",
      "source": [
        "### type()\n",
        "- 함수 : 특정 기능을 수행하도록 만든 매직박스\n",
        " + 특정 함수를 쓰기위한 조건만 맞춰주면 동작\n",
        ""
      ],
      "metadata": {
        "id": "dseNBhdivAay"
      }
    },
    {
      "cell_type": "markdown",
      "source": [
        "함수의 종류\n",
        "- 내장(built-in)함수 : 파이썬 설치와 함께 제공하는 기본적인 함수\n",
        " + print(), type()\n",
        " + Documentation: 함수를 설명해주는 문서 보는 법을 익힐 것 (영어)\n",
        "\n",
        "- 라이브러리에서 제공해주는 함수\n",
        " + R: 패키지, Python: 라이브러리\n",
        " + 목적이 분명.\n",
        "   - 웹사이트 개발 : 웹사이트와 관련된 라이브러리를 별도 설치 필요\n",
        "   - 통계분석 : 통계 분석과 관련된 라이브러리를 별도 설치 필요\n",
        "   - 시각화 : 시각화 관련된 라이브러리를 별도 설치 필요\n",
        "   - 게임개발 : 게임 개발과 관련된 라이브러리 설치\n",
        "   - 수치연산 주요 라이브러리 : numpy, scipy"
      ],
      "metadata": {
        "id": "GXKMk5LwzqqC"
      }
    },
    {
      "cell_type": "code",
      "source": [
        "# 파이썬에서는 정수를 어떻게 표현할까?\n",
        "# 파이썬에서는 실수를 어떻게 표현할까?\n",
        "print(type(3))"
      ],
      "metadata": {
        "colab": {
          "base_uri": "https://localhost:8080/"
        },
        "id": "P3sy3YlWun_a",
        "outputId": "5998525e-6d62-4d5b-c0c9-cdaf7d4c682e"
      },
      "execution_count": 22,
      "outputs": [
        {
          "output_type": "stream",
          "name": "stdout",
          "text": [
            "<class 'int'>\n"
          ]
        }
      ]
    },
    {
      "cell_type": "code",
      "source": [
        "print(type(3.5))"
      ],
      "metadata": {
        "colab": {
          "base_uri": "https://localhost:8080/"
        },
        "id": "BtT3VFQVu2YN",
        "outputId": "e8e54d96-77e9-4c44-c2ad-51790618d5e6"
      },
      "execution_count": 23,
      "outputs": [
        {
          "output_type": "stream",
          "name": "stdout",
          "text": [
            "<class 'float'>\n"
          ]
        }
      ]
    },
    {
      "cell_type": "markdown",
      "source": [
        "- 파이썬은 객체지향 언어입니다."
      ],
      "metadata": {
        "id": "giBb4iln1wlR"
      }
    },
    {
      "cell_type": "markdown",
      "source": [
        "## 거듭 제곱과 나머지\n",
        "- 숫자 A를 n번 곱하는 거듭제곱 (power)\n",
        "  + A는 밑, n은 지수라고 표현"
      ],
      "metadata": {
        "id": "LWr8RuId2Dqt"
      }
    },
    {
      "cell_type": "code",
      "source": [
        "2 * 2 * 2 * 2 * 2"
      ],
      "metadata": {
        "colab": {
          "base_uri": "https://localhost:8080/"
        },
        "id": "nMOaJmZL2UeM",
        "outputId": "d371242f-a06c-418f-cb89-a0534216df58"
      },
      "execution_count": 27,
      "outputs": [
        {
          "output_type": "execute_result",
          "data": {
            "text/plain": [
              "32"
            ]
          },
          "metadata": {},
          "execution_count": 27
        }
      ]
    },
    {
      "cell_type": "code",
      "source": [
        "2 ** 5 # 거듭제곱"
      ],
      "metadata": {
        "colab": {
          "base_uri": "https://localhost:8080/"
        },
        "id": "1zzKxYJ82adw",
        "outputId": "1206ae8e-e878-483c-f70a-fafdec159e13"
      },
      "execution_count": 29,
      "outputs": [
        {
          "output_type": "execute_result",
          "data": {
            "text/plain": [
              "32"
            ]
          },
          "metadata": {},
          "execution_count": 29
        }
      ]
    },
    {
      "cell_type": "markdown",
      "source": [
        "- 나머지 구하는 방법"
      ],
      "metadata": {
        "id": "QSkTReVZ2nf5"
      }
    },
    {
      "cell_type": "code",
      "source": [
        "13 % 5 # 나머지"
      ],
      "metadata": {
        "colab": {
          "base_uri": "https://localhost:8080/"
        },
        "id": "3OuLzsnE2rPa",
        "outputId": "6c8224d1-e506-47cf-aea2-b7f7f12921dc"
      },
      "execution_count": 32,
      "outputs": [
        {
          "output_type": "execute_result",
          "data": {
            "text/plain": [
              "3"
            ]
          },
          "metadata": {},
          "execution_count": 32
        }
      ]
    },
    {
      "cell_type": "code",
      "source": [
        "13 // 5 # 몫"
      ],
      "metadata": {
        "colab": {
          "base_uri": "https://localhost:8080/"
        },
        "id": "R0OjxuLV2u54",
        "outputId": "fdbba38b-5883-418f-e057-0794824b917d"
      },
      "execution_count": 31,
      "outputs": [
        {
          "output_type": "execute_result",
          "data": {
            "text/plain": [
              "2"
            ]
          },
          "metadata": {},
          "execution_count": 31
        }
      ]
    },
    {
      "cell_type": "markdown",
      "source": [
        "- 교재 표 3-1(p34), 산술연산자 표 정리"
      ],
      "metadata": {
        "id": "ro-dTG5j29Yx"
      }
    },
    {
      "cell_type": "markdown",
      "source": [
        "## 과학적 표기법 (scientific notation)\n",
        "- 아주 큰 수, 작은 수를 다뤄야하는 케이스\n",
        " + 빛은 초당 30만 km\n",
        " + 단위를 m/s 표현하면, 300,000,000m/s\n",
        " + 3x10^8"
      ],
      "metadata": {
        "id": "EJxSxviC3dj2"
      }
    },
    {
      "cell_type": "code",
      "source": [
        "print(3*10**8)"
      ],
      "metadata": {
        "colab": {
          "base_uri": "https://localhost:8080/"
        },
        "id": "uCEAAyaz4L8C",
        "outputId": "a6368ab0-e6bd-45b9-a8df-8fe1348e43af"
      },
      "execution_count": 36,
      "outputs": [
        {
          "output_type": "stream",
          "name": "stdout",
          "text": [
            "300000000\n"
          ]
        }
      ]
    },
    {
      "cell_type": "code",
      "source": [
        "print(3e8)"
      ],
      "metadata": {
        "colab": {
          "base_uri": "https://localhost:8080/"
        },
        "id": "bv6jLUzG4ODd",
        "outputId": "ef89cc53-dfd4-4058-9327-768e5debf43c"
      },
      "execution_count": 37,
      "outputs": [
        {
          "output_type": "stream",
          "name": "stdout",
          "text": [
            "300000000.0\n"
          ]
        }
      ]
    },
    {
      "cell_type": "code",
      "source": [
        "3e-4"
      ],
      "metadata": {
        "colab": {
          "base_uri": "https://localhost:8080/"
        },
        "id": "XRBJTIKS4P-M",
        "outputId": "925d3888-42a7-4cf9-dee0-fcb10d4497a9"
      },
      "execution_count": 38,
      "outputs": [
        {
          "output_type": "execute_result",
          "data": {
            "text/plain": [
              "0.0003"
            ]
          },
          "metadata": {},
          "execution_count": 38
        }
      ]
    },
    {
      "cell_type": "code",
      "source": [
        "1e-4"
      ],
      "metadata": {
        "colab": {
          "base_uri": "https://localhost:8080/"
        },
        "id": "3hpFSfqE4nOs",
        "outputId": "51ebea6c-a9bd-456e-baca-f1d0d10ee6db"
      },
      "execution_count": 39,
      "outputs": [
        {
          "output_type": "execute_result",
          "data": {
            "text/plain": [
              "0.0001"
            ]
          },
          "metadata": {},
          "execution_count": 39
        }
      ]
    },
    {
      "cell_type": "markdown",
      "source": [
        "## 진수 표현과 변환\n",
        "- 우리는 일상생활에서는 10진법을 많이 씀\n",
        "- 60진법: 60초가 1분이고, 60분이 1시간\n",
        "- 12진법: 오전 12시간, 오후 12시간, 1년 12달\n",
        "- 컴퓨터 프로그래밍, 숫자 0과 1로 이루어진 2진법 수행\n",
        "- 8진법: 0~7까지의 숫자\n",
        "- 16진법: 0~9, a,b,c,d,e,f\n",
        "- 메서드\n",
        "  + bin() : 10진수를 2진수로 변환\n",
        "  + oct() : 10진수를 8진수로 변환\n",
        "  + hex() : 10진수를 16진수로 변환"
      ],
      "metadata": {
        "id": "OyyKFDPX5Vjx"
      }
    },
    {
      "cell_type": "code",
      "source": [
        "17 # 10진법"
      ],
      "metadata": {
        "colab": {
          "base_uri": "https://localhost:8080/"
        },
        "id": "DTC6Aq3l6KmP",
        "outputId": "7429e344-246f-45cd-ad6d-28eac3baf385"
      },
      "execution_count": 43,
      "outputs": [
        {
          "output_type": "execute_result",
          "data": {
            "text/plain": [
              "17"
            ]
          },
          "metadata": {},
          "execution_count": 43
        }
      ]
    },
    {
      "cell_type": "code",
      "source": [
        "0b10001 # 2진법"
      ],
      "metadata": {
        "colab": {
          "base_uri": "https://localhost:8080/"
        },
        "id": "pUgs_5VT6OlH",
        "outputId": "65901be7-7bf9-4f17-883e-a95005c3ed8b"
      },
      "execution_count": 44,
      "outputs": [
        {
          "output_type": "execute_result",
          "data": {
            "text/plain": [
              "17"
            ]
          },
          "metadata": {},
          "execution_count": 44
        }
      ]
    },
    {
      "cell_type": "code",
      "source": [
        "0o21 # 8진법"
      ],
      "metadata": {
        "colab": {
          "base_uri": "https://localhost:8080/"
        },
        "id": "ucJY-Aeg6ToN",
        "outputId": "65bfbfaf-fa78-41b8-c154-3fc8e83b94a4"
      },
      "execution_count": 46,
      "outputs": [
        {
          "output_type": "execute_result",
          "data": {
            "text/plain": [
              "17"
            ]
          },
          "metadata": {},
          "execution_count": 46
        }
      ]
    },
    {
      "cell_type": "code",
      "source": [
        "0x11 # 16진법"
      ],
      "metadata": {
        "colab": {
          "base_uri": "https://localhost:8080/"
        },
        "id": "JgJRobu06fJp",
        "outputId": "30b6ef97-c88b-4cbc-f92f-ba3507cb69c5"
      },
      "execution_count": 47,
      "outputs": [
        {
          "output_type": "execute_result",
          "data": {
            "text/plain": [
              "17"
            ]
          },
          "metadata": {},
          "execution_count": 47
        }
      ]
    },
    {
      "cell_type": "markdown",
      "source": [
        "## 논리 연산 및 비교 연산 (매우 중요)\n",
        "- 참/거짓\n",
        "- 논리 연산을 잘 활용하는 것이 프로그래밍의 핵심"
      ],
      "metadata": {
        "id": "eHf7Uh6T7I5l"
      }
    },
    {
      "cell_type": "code",
      "source": [
        "print(True)"
      ],
      "metadata": {
        "colab": {
          "base_uri": "https://localhost:8080/"
        },
        "id": "9yrFeLA773vP",
        "outputId": "41c8531d-e236-4785-d27a-a2b0a856810e"
      },
      "execution_count": 49,
      "outputs": [
        {
          "output_type": "stream",
          "name": "stdout",
          "text": [
            "True\n"
          ]
        }
      ]
    },
    {
      "cell_type": "code",
      "source": [
        "print(False)"
      ],
      "metadata": {
        "colab": {
          "base_uri": "https://localhost:8080/"
        },
        "id": "Rjqd6nJn76Ka",
        "outputId": "9bbfdbe9-ae1f-4a31-e32a-e0e7cf78638b"
      },
      "execution_count": 50,
      "outputs": [
        {
          "output_type": "stream",
          "name": "stdout",
          "text": [
            "False\n"
          ]
        }
      ]
    },
    {
      "cell_type": "code",
      "source": [
        "print(type(True))"
      ],
      "metadata": {
        "colab": {
          "base_uri": "https://localhost:8080/"
        },
        "id": "izc2nsWR7_1f",
        "outputId": "4486dabf-80d7-4a0c-b646-22aa96278a23"
      },
      "execution_count": 51,
      "outputs": [
        {
          "output_type": "stream",
          "name": "stdout",
          "text": [
            "<class 'bool'>\n"
          ]
        }
      ]
    },
    {
      "cell_type": "markdown",
      "source": [
        "### 논리 연산자\n",
        "- and : A and B : A와 B 모두 참일때 참\n",
        "- or : A or B : A와 B 중 하나라도 참이면 참, 둘 다 거짓일 때 거짓\n",
        "- not : not A : A가 참일때 거짓, A가 거짓이면 참"
      ],
      "metadata": {
        "id": "0jeLFIH38XhQ"
      }
    },
    {
      "cell_type": "code",
      "source": [
        "#교집합\n",
        "# True 또는 False 결과가 나오도록 조건식을 만들어야 함\n",
        "print(True and True)\n",
        "print(True and False)\n",
        "print(False and True)\n",
        "print(False and False)"
      ],
      "metadata": {
        "colab": {
          "base_uri": "https://localhost:8080/"
        },
        "id": "S4RViB4rBRsk",
        "outputId": "383a4532-1f38-4387-9c4d-6145a135b796"
      },
      "execution_count": 55,
      "outputs": [
        {
          "output_type": "stream",
          "name": "stdout",
          "text": [
            "True\n",
            "False\n",
            "False\n",
            "False\n"
          ]
        }
      ]
    },
    {
      "cell_type": "code",
      "source": [
        "#합집합\n",
        "print(True or True)\n",
        "print(True or False)\n",
        "print(False or True)\n",
        "print(False or False)"
      ],
      "metadata": {
        "colab": {
          "base_uri": "https://localhost:8080/"
        },
        "id": "p6dTFUyZBn7u",
        "outputId": "0ae33575-eb11-472e-f520-c4a3c0afebed"
      },
      "execution_count": 57,
      "outputs": [
        {
          "output_type": "stream",
          "name": "stdout",
          "text": [
            "True\n",
            "True\n",
            "True\n",
            "False\n"
          ]
        }
      ]
    },
    {
      "cell_type": "code",
      "source": [
        "not False"
      ],
      "metadata": {
        "colab": {
          "base_uri": "https://localhost:8080/"
        },
        "id": "-F6tWPGGB-js",
        "outputId": "ec0aa553-7b8c-4b00-89a4-c6290def67dc"
      },
      "execution_count": 60,
      "outputs": [
        {
          "output_type": "execute_result",
          "data": {
            "text/plain": [
              "True"
            ]
          },
          "metadata": {},
          "execution_count": 60
        }
      ]
    },
    {
      "cell_type": "markdown",
      "source": [
        "### 비교연산자"
      ],
      "metadata": {
        "id": "iYp_JY49CaPz"
      }
    },
    {
      "cell_type": "code",
      "source": [
        "# True 또는 False 결과가 나오도록 \"의도적\"으로 조건식을 만들어야 함\n",
        "1 == 2 # a와 b가 같다"
      ],
      "metadata": {
        "colab": {
          "base_uri": "https://localhost:8080/"
        },
        "id": "bqyw_BPkCYOr",
        "outputId": "b8311d7b-f878-4889-d327-53a6e570d973"
      },
      "execution_count": 62,
      "outputs": [
        {
          "output_type": "execute_result",
          "data": {
            "text/plain": [
              "False"
            ]
          },
          "metadata": {},
          "execution_count": 62
        }
      ]
    },
    {
      "cell_type": "code",
      "source": [
        "1 != 2 # a와 b는 같지 않다"
      ],
      "metadata": {
        "colab": {
          "base_uri": "https://localhost:8080/"
        },
        "id": "pNiJ2gVbCdib",
        "outputId": "245de839-2b2a-4e7a-97dc-3fa73af4fa4c"
      },
      "execution_count": 66,
      "outputs": [
        {
          "output_type": "execute_result",
          "data": {
            "text/plain": [
              "True"
            ]
          },
          "metadata": {},
          "execution_count": 66
        }
      ]
    },
    {
      "cell_type": "code",
      "source": [
        "1 <= 2 # a는 b보다 작거나 같다."
      ],
      "metadata": {
        "colab": {
          "base_uri": "https://localhost:8080/"
        },
        "id": "CciNOEh4DQyU",
        "outputId": "e8a87b8d-70f4-4224-b337-114d33a470df"
      },
      "execution_count": 67,
      "outputs": [
        {
          "output_type": "execute_result",
          "data": {
            "text/plain": [
              "True"
            ]
          },
          "metadata": {},
          "execution_count": 67
        }
      ]
    },
    {
      "cell_type": "code",
      "source": [
        "1 < 2 # a가 b보다 작다"
      ],
      "metadata": {
        "colab": {
          "base_uri": "https://localhost:8080/"
        },
        "id": "O7WiqeUvDVd5",
        "outputId": "ded41a51-6a62-40f3-c028-169c0bc030e2"
      },
      "execution_count": 68,
      "outputs": [
        {
          "output_type": "execute_result",
          "data": {
            "text/plain": [
              "True"
            ]
          },
          "metadata": {},
          "execution_count": 68
        }
      ]
    },
    {
      "cell_type": "code",
      "source": [
        "1 >= 2 #a가 b보다 크거나 같다"
      ],
      "metadata": {
        "colab": {
          "base_uri": "https://localhost:8080/"
        },
        "id": "8JGnoTYQDYgL",
        "outputId": "381a0983-9559-4331-8014-e0566a8703df"
      },
      "execution_count": 69,
      "outputs": [
        {
          "output_type": "execute_result",
          "data": {
            "text/plain": [
              "False"
            ]
          },
          "metadata": {},
          "execution_count": 69
        }
      ]
    },
    {
      "cell_type": "code",
      "source": [
        "1 > 2 #a가 b보다 크다"
      ],
      "metadata": {
        "colab": {
          "base_uri": "https://localhost:8080/"
        },
        "id": "N5yfAkkJDebS",
        "outputId": "119b51ef-83c7-4f0f-f193-6979120175ef"
      },
      "execution_count": 71,
      "outputs": [
        {
          "output_type": "execute_result",
          "data": {
            "text/plain": [
              "False"
            ]
          },
          "metadata": {},
          "execution_count": 71
        }
      ]
    },
    {
      "cell_type": "markdown",
      "source": [
        "### 비교연산자 + 논리연산자"
      ],
      "metadata": {
        "id": "y9RO8jo_D7_t"
      }
    },
    {
      "cell_type": "code",
      "source": [
        "1 > 0 and -2 < 0 # 비교연산자(1순위) 논리연산자(2순위)"
      ],
      "metadata": {
        "colab": {
          "base_uri": "https://localhost:8080/"
        },
        "id": "YUVtpJRaD-Xw",
        "outputId": "61275c52-b506-40e8-ce5d-7c54adcfa503"
      },
      "execution_count": 72,
      "outputs": [
        {
          "output_type": "execute_result",
          "data": {
            "text/plain": [
              "True"
            ]
          },
          "metadata": {},
          "execution_count": 72
        }
      ]
    },
    {
      "cell_type": "code",
      "source": [
        "# 괄호안이 먼저 연산\n",
        "((3 < 0) and (-5 > 0)) and (1 > 5)"
      ],
      "metadata": {
        "colab": {
          "base_uri": "https://localhost:8080/"
        },
        "id": "EHelFVG_ERfu",
        "outputId": "21ad4c96-7130-4e34-8dd1-956c91e986e8"
      },
      "execution_count": 77,
      "outputs": [
        {
          "output_type": "execute_result",
          "data": {
            "text/plain": [
              "False"
            ]
          },
          "metadata": {},
          "execution_count": 77
        }
      ]
    },
    {
      "cell_type": "code",
      "source": [],
      "metadata": {
        "id": "lQTUR0rxE1WZ"
      },
      "execution_count": null,
      "outputs": []
    },
    {
      "cell_type": "markdown",
      "source": [
        "# Chapter 4. 변수와 자료형\n"
      ],
      "metadata": {
        "id": "pX_jtXHIol4D"
      }
    }
  ]
}