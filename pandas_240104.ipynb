{
  "cells": [
    {
      "cell_type": "markdown",
      "metadata": {
        "id": "view-in-github",
        "colab_type": "text"
      },
      "source": [
        "<a href=\"https://colab.research.google.com/github/JinaaK/mulcamp34/blob/main/pandas_240104.ipynb\" target=\"_parent\"><img src=\"https://colab.research.google.com/assets/colab-badge.svg\" alt=\"Open In Colab\"/></a>"
      ]
    },
    {
      "cell_type": "code",
      "execution_count": null,
      "id": "cc5979de-4608-41da-ba6f-05a7d8fb4172",
      "metadata": {
        "tags": [],
        "id": "cc5979de-4608-41da-ba6f-05a7d8fb4172",
        "outputId": "02e42e60-baaa-4915-9fd1-6486af3ee742"
      },
      "outputs": [
        {
          "data": {
            "text/plain": [
              "'2.0.3'"
            ]
          },
          "execution_count": 1,
          "metadata": {},
          "output_type": "execute_result"
        }
      ],
      "source": [
        "import pandas as pd\n",
        "pd.__version__"
      ]
    },
    {
      "cell_type": "code",
      "execution_count": null,
      "id": "08c4c812-098f-4dc3-ae99-2f1e05c16ba6",
      "metadata": {
        "tags": [],
        "id": "08c4c812-098f-4dc3-ae99-2f1e05c16ba6",
        "outputId": "84af1995-40a8-4d18-dde0-e67f3ca6007d"
      },
      "outputs": [
        {
          "name": "stdout",
          "output_type": "stream",
          "text": [
            "Defaulting to user installation because normal site-packages is not writeable\n",
            "Requirement already satisfied: seaborn in c:\\programdata\\anaconda3\\lib\\site-packages (0.12.2)\n",
            "Requirement already satisfied: numpy!=1.24.0,>=1.17 in c:\\programdata\\anaconda3\\lib\\site-packages (from seaborn) (1.24.3)\n",
            "Requirement already satisfied: pandas>=0.25 in c:\\programdata\\anaconda3\\lib\\site-packages (from seaborn) (2.0.3)\n",
            "Requirement already satisfied: matplotlib!=3.6.1,>=3.1 in c:\\programdata\\anaconda3\\lib\\site-packages (from seaborn) (3.7.2)\n",
            "Requirement already satisfied: contourpy>=1.0.1 in c:\\programdata\\anaconda3\\lib\\site-packages (from matplotlib!=3.6.1,>=3.1->seaborn) (1.0.5)\n",
            "Requirement already satisfied: cycler>=0.10 in c:\\programdata\\anaconda3\\lib\\site-packages (from matplotlib!=3.6.1,>=3.1->seaborn) (0.11.0)\n",
            "Requirement already satisfied: fonttools>=4.22.0 in c:\\programdata\\anaconda3\\lib\\site-packages (from matplotlib!=3.6.1,>=3.1->seaborn) (4.25.0)\n",
            "Requirement already satisfied: kiwisolver>=1.0.1 in c:\\programdata\\anaconda3\\lib\\site-packages (from matplotlib!=3.6.1,>=3.1->seaborn) (1.4.4)\n",
            "Requirement already satisfied: packaging>=20.0 in c:\\programdata\\anaconda3\\lib\\site-packages (from matplotlib!=3.6.1,>=3.1->seaborn) (23.1)\n",
            "Requirement already satisfied: pillow>=6.2.0 in c:\\programdata\\anaconda3\\lib\\site-packages (from matplotlib!=3.6.1,>=3.1->seaborn) (9.4.0)\n",
            "Requirement already satisfied: pyparsing<3.1,>=2.3.1 in c:\\programdata\\anaconda3\\lib\\site-packages (from matplotlib!=3.6.1,>=3.1->seaborn) (3.0.9)\n",
            "Requirement already satisfied: python-dateutil>=2.7 in c:\\programdata\\anaconda3\\lib\\site-packages (from matplotlib!=3.6.1,>=3.1->seaborn) (2.8.2)\n",
            "Requirement already satisfied: pytz>=2020.1 in c:\\programdata\\anaconda3\\lib\\site-packages (from pandas>=0.25->seaborn) (2023.3.post1)\n",
            "Requirement already satisfied: tzdata>=2022.1 in c:\\programdata\\anaconda3\\lib\\site-packages (from pandas>=0.25->seaborn) (2023.3)\n",
            "Requirement already satisfied: six>=1.5 in c:\\programdata\\anaconda3\\lib\\site-packages (from python-dateutil>=2.7->matplotlib!=3.6.1,>=3.1->seaborn) (1.16.0)\n"
          ]
        }
      ],
      "source": [
        "!pip install seaborn"
      ]
    },
    {
      "cell_type": "markdown",
      "id": "7c9667ef-6a42-4c66-8e4d-f45cf3053159",
      "metadata": {
        "id": "7c9667ef-6a42-4c66-8e4d-f45cf3053159"
      },
      "source": [
        "## pandas의 데이터 구조 (p.237)\n",
        "- series 데이터 구조, 1차원 데이터 : 컬럼의 갯수가 1개인 데이터\n",
        "- DataFrame 데이터 구조, 컬럼 갯수가 여러개인 데이터"
      ]
    },
    {
      "cell_type": "code",
      "execution_count": null,
      "id": "21435665-d0c2-429f-86dc-40cb1440bfcf",
      "metadata": {
        "tags": [],
        "id": "21435665-d0c2-429f-86dc-40cb1440bfcf",
        "outputId": "4c3f64f9-43ff-48f4-a28d-477ac725df21"
      },
      "outputs": [
        {
          "data": {
            "text/plain": [
              "0    10\n",
              "1    20\n",
              "2    30\n",
              "3    40\n",
              "4    50\n",
              "dtype: int64"
            ]
          },
          "execution_count": 21,
          "metadata": {},
          "output_type": "execute_result"
        }
      ],
      "source": [
        "s1 = pd.Series([10, 20, 30, 40, 50]) #Numpy에서 모든 원소가 데이터 타입이 같아야 했지만 pandas의 경우 달라도 됨. Series()로 데이터 생성할 때 문자와 숫자 혼합된 리스트를 인자로 이용할 수 있음\n",
        "s1"
      ]
    },
    {
      "cell_type": "code",
      "execution_count": null,
      "id": "33fbe69d-09ae-44f8-ab41-2977f7fcf7fd",
      "metadata": {
        "tags": [],
        "id": "33fbe69d-09ae-44f8-ab41-2977f7fcf7fd",
        "outputId": "6a347efe-2184-41cf-a167-59b833f79cab"
      },
      "outputs": [
        {
          "data": {
            "text/plain": [
              "RangeIndex(start=0, stop=5, step=1)"
            ]
          },
          "execution_count": 5,
          "metadata": {},
          "output_type": "execute_result"
        }
      ],
      "source": [
        "s1.index"
      ]
    },
    {
      "cell_type": "code",
      "execution_count": null,
      "id": "4ad3d0a6-ad2b-4225-b5c9-2bb23129dabd",
      "metadata": {
        "tags": [],
        "id": "4ad3d0a6-ad2b-4225-b5c9-2bb23129dabd",
        "outputId": "2c92fb7e-d919-46b9-9c41-332940101f83"
      },
      "outputs": [
        {
          "data": {
            "text/plain": [
              "array([10, 20, 30, 40, 50], dtype=int64)"
            ]
          },
          "execution_count": 7,
          "metadata": {},
          "output_type": "execute_result"
        }
      ],
      "source": [
        "s1.values"
      ]
    },
    {
      "cell_type": "code",
      "execution_count": null,
      "id": "22f4e4a7-3f0d-455c-ab1a-3dfa3a33023c",
      "metadata": {
        "tags": [],
        "id": "22f4e4a7-3f0d-455c-ab1a-3dfa3a33023c",
        "outputId": "6d3d7ae3-30aa-422c-a7a7-6211217da0d6"
      },
      "outputs": [
        {
          "data": {
            "text/plain": [
              "0    a\n",
              "1    b\n",
              "2    c\n",
              "3    1\n",
              "4    2\n",
              "5    3\n",
              "dtype: object"
            ]
          },
          "execution_count": 10,
          "metadata": {},
          "output_type": "execute_result"
        }
      ],
      "source": [
        "s1 = pd.Series(['a', 'b', 'c', 1, 2, 3]) # 데이터 타입 달라도 오류는 안나지만 object로 처리함\n",
        "s1"
      ]
    },
    {
      "cell_type": "code",
      "execution_count": null,
      "id": "1816a5a1-a4af-471e-9f4f-8159513c6bb7",
      "metadata": {
        "tags": [],
        "id": "1816a5a1-a4af-471e-9f4f-8159513c6bb7",
        "outputId": "8c8b66c9-c041-43e3-f0a4-4e7f9797b4b4"
      },
      "outputs": [
        {
          "data": {
            "text/plain": [
              "0     NaN\n",
              "1    10.0\n",
              "2    30.0\n",
              "dtype: float64"
            ]
          },
          "execution_count": 13,
          "metadata": {},
          "output_type": "execute_result"
        }
      ],
      "source": [
        "import numpy as np\n",
        "\n",
        "s3 = pd.Series([np.nan, 10, 30]) # nan은 결측치 (missing values)\n",
        "s3"
      ]
    },
    {
      "cell_type": "code",
      "execution_count": null,
      "id": "a3ed9830-c384-4993-b85b-4f4de3258ddd",
      "metadata": {
        "tags": [],
        "id": "a3ed9830-c384-4993-b85b-4f4de3258ddd",
        "outputId": "c37b2544-ad66-4a5d-aaaa-afec4c3d0b59"
      },
      "outputs": [
        {
          "data": {
            "text/plain": [
              "2018-10-07    200\n",
              "2018-10-08    195\n",
              "dtype: int64"
            ]
          },
          "execution_count": 17,
          "metadata": {},
          "output_type": "execute_result"
        }
      ],
      "source": [
        "index_date = ['2018-10-07', '2018-10-08']\n",
        "s4 = pd.Series([200, 195], index = index_date)\n",
        "s4"
      ]
    },
    {
      "cell_type": "code",
      "execution_count": null,
      "id": "0405e20e-46a0-4d02-ac45-3564a4fc35dd",
      "metadata": {
        "tags": [],
        "id": "0405e20e-46a0-4d02-ac45-3564a4fc35dd",
        "outputId": "69fd132b-9904-47fd-a74f-78af5a9934a8"
      },
      "outputs": [
        {
          "data": {
            "text/plain": [
              "2018-10-08    200\n",
              "2018-10-08    195\n",
              "dtype: int64"
            ]
          },
          "execution_count": 19,
          "metadata": {},
          "output_type": "execute_result"
        }
      ],
      "source": [
        "index_date = ['2018-10-08', '2018-10-08']\n",
        "s4 = pd.Series([200, 195], index = index_date)\n",
        "s4\n",
        "\n",
        "# index 설정의 기본 원칙은 중복이 되면 안된다. 코드상으로는 중복은 허용하더라"
      ]
    },
    {
      "cell_type": "code",
      "execution_count": null,
      "id": "7b515195-a929-42a8-bba4-86776664e60e",
      "metadata": {
        "tags": [],
        "id": "7b515195-a929-42a8-bba4-86776664e60e",
        "outputId": "8dd10dda-d6e5-41e6-950b-56dc9560feea"
      },
      "outputs": [
        {
          "data": {
            "text/plain": [
              "국어    100\n",
              "영어     95\n",
              "dtype: int64"
            ]
          },
          "execution_count": 22,
          "metadata": {},
          "output_type": "execute_result"
        }
      ],
      "source": [
        "data_dict = {\n",
        "    '국어' : 100,\n",
        "    '영어' : 95\n",
        "}\n",
        "\n",
        "s5 = pd.Series(data_dict)\n",
        "s5"
      ]
    },
    {
      "cell_type": "markdown",
      "id": "97942006-ef00-4081-9635-070bf4a0f6a3",
      "metadata": {
        "id": "97942006-ef00-4081-9635-070bf4a0f6a3"
      },
      "source": [
        "## 날짜 데이터"
      ]
    },
    {
      "cell_type": "code",
      "execution_count": null,
      "id": "9ef732e5-12f2-4cf7-bd5f-3820058562a3",
      "metadata": {
        "tags": [],
        "id": "9ef732e5-12f2-4cf7-bd5f-3820058562a3",
        "outputId": "78333642-30ac-45b9-89e6-e0bfd263b042"
      },
      "outputs": [
        {
          "data": {
            "text/plain": [
              "DatetimeIndex(['2024-01-01', '2024-01-02', '2024-01-03', '2024-01-04',\n",
              "               '2024-01-05', '2024-01-06', '2024-01-07'],\n",
              "              dtype='datetime64[ns]', freq='D')"
            ]
          },
          "execution_count": 25,
          "metadata": {},
          "output_type": "execute_result"
        }
      ],
      "source": [
        "pd.date_range(start='2024/01/01', end='2024.01.07')"
      ]
    },
    {
      "cell_type": "code",
      "execution_count": null,
      "id": "378b7580-ecd4-4424-822e-8ce1e8dbbaaf",
      "metadata": {
        "tags": [],
        "id": "378b7580-ecd4-4424-822e-8ce1e8dbbaaf",
        "outputId": "48a5faa2-51d3-40ea-9b15-a076c524de40"
      },
      "outputs": [
        {
          "data": {
            "text/plain": [
              "DatetimeIndex(['2024-01-01', '2024-01-02', '2024-01-03', '2024-01-04',\n",
              "               '2024-01-05', '2024-01-06', '2024-01-07'],\n",
              "              dtype='datetime64[ns]', freq='D')"
            ]
          },
          "execution_count": 27,
          "metadata": {},
          "output_type": "execute_result"
        }
      ],
      "source": [
        "pd.date_range(start='2024/01/01', periods = 7)"
      ]
    },
    {
      "cell_type": "code",
      "execution_count": null,
      "id": "08faa078-9868-4d46-8b8d-e5c76ab2067c",
      "metadata": {
        "tags": [],
        "id": "08faa078-9868-4d46-8b8d-e5c76ab2067c",
        "outputId": "a8a7f56a-5a92-4647-bdd4-f5e78f774932"
      },
      "outputs": [
        {
          "data": {
            "text/plain": [
              "DatetimeIndex(['2024-01-01', '2024-01-03', '2024-01-05', '2024-01-07'], dtype='datetime64[ns]', freq='2D')"
            ]
          },
          "execution_count": 29,
          "metadata": {},
          "output_type": "execute_result"
        }
      ],
      "source": [
        "pd.date_range(start='2024/01/01', periods = 4, freq = '2D')"
      ]
    },
    {
      "cell_type": "code",
      "execution_count": null,
      "id": "5ec1991d-cbcb-48d7-b029-b5bb212079bf",
      "metadata": {
        "tags": [],
        "id": "5ec1991d-cbcb-48d7-b029-b5bb212079bf",
        "outputId": "92978dab-c65a-4d12-bd92-1da4d6dce96b"
      },
      "outputs": [
        {
          "data": {
            "text/plain": [
              "DatetimeIndex(['2024-01-01 08:00:00', '2024-01-01 09:00:00',\n",
              "               '2024-01-01 10:00:00', '2024-01-01 11:00:00'],\n",
              "              dtype='datetime64[ns]', freq='H')"
            ]
          },
          "execution_count": 31,
          "metadata": {},
          "output_type": "execute_result"
        }
      ],
      "source": [
        "pd.date_range(start='2024-01-01 08:00', periods = 4, freq = 'H')"
      ]
    },
    {
      "cell_type": "markdown",
      "id": "08b59f88-5702-475a-95f1-faf7ca740654",
      "metadata": {
        "id": "08b59f88-5702-475a-95f1-faf7ca740654"
      },
      "source": [
        "## DataFrame을 활용한 데이터 생성"
      ]
    },
    {
      "cell_type": "code",
      "execution_count": null,
      "id": "4fb584b8-7b1b-4deb-a422-c37140442365",
      "metadata": {
        "tags": [],
        "id": "4fb584b8-7b1b-4deb-a422-c37140442365",
        "outputId": "cfa7e37c-3b35-4807-c4a8-bb033d72c98e"
      },
      "outputs": [
        {
          "data": {
            "text/plain": [
              "'0.12.2'"
            ]
          },
          "execution_count": 33,
          "metadata": {},
          "output_type": "execute_result"
        }
      ],
      "source": [
        "import seaborn as sns # 시각화 라이브러리(통계 시각화)\n",
        "\n",
        "sns.__version__"
      ]
    },
    {
      "cell_type": "code",
      "execution_count": null,
      "id": "d612b0ab-0b50-4bad-b084-3663fe89f122",
      "metadata": {
        "tags": [],
        "id": "d612b0ab-0b50-4bad-b084-3663fe89f122",
        "outputId": "11d8aa5f-3c27-4893-be55-223fa0adb4b6"
      },
      "outputs": [
        {
          "data": {
            "text/plain": [
              "['anagrams',\n",
              " 'anscombe',\n",
              " 'attention',\n",
              " 'brain_networks',\n",
              " 'car_crashes',\n",
              " 'diamonds',\n",
              " 'dots',\n",
              " 'dowjones',\n",
              " 'exercise',\n",
              " 'flights',\n",
              " 'fmri',\n",
              " 'geyser',\n",
              " 'glue',\n",
              " 'healthexp',\n",
              " 'iris',\n",
              " 'mpg',\n",
              " 'penguins',\n",
              " 'planets',\n",
              " 'seaice',\n",
              " 'taxis',\n",
              " 'tips',\n",
              " 'titanic']"
            ]
          },
          "execution_count": 35,
          "metadata": {},
          "output_type": "execute_result"
        }
      ],
      "source": [
        "sns.get_dataset_names()"
      ]
    },
    {
      "cell_type": "code",
      "execution_count": null,
      "id": "6ed85c45-b677-4046-b747-840216d49c1e",
      "metadata": {
        "tags": [],
        "id": "6ed85c45-b677-4046-b747-840216d49c1e",
        "outputId": "07f08737-7c62-42a0-fa11-18e7b4c2711e"
      },
      "outputs": [
        {
          "data": {
            "text/html": [
              "<div>\n",
              "<style scoped>\n",
              "    .dataframe tbody tr th:only-of-type {\n",
              "        vertical-align: middle;\n",
              "    }\n",
              "\n",
              "    .dataframe tbody tr th {\n",
              "        vertical-align: top;\n",
              "    }\n",
              "\n",
              "    .dataframe thead th {\n",
              "        text-align: right;\n",
              "    }\n",
              "</style>\n",
              "<table border=\"1\" class=\"dataframe\">\n",
              "  <thead>\n",
              "    <tr style=\"text-align: right;\">\n",
              "      <th></th>\n",
              "      <th>sepal_length</th>\n",
              "      <th>sepal_width</th>\n",
              "      <th>petal_length</th>\n",
              "      <th>petal_width</th>\n",
              "      <th>species</th>\n",
              "    </tr>\n",
              "  </thead>\n",
              "  <tbody>\n",
              "    <tr>\n",
              "      <th>0</th>\n",
              "      <td>5.1</td>\n",
              "      <td>3.5</td>\n",
              "      <td>1.4</td>\n",
              "      <td>0.2</td>\n",
              "      <td>setosa</td>\n",
              "    </tr>\n",
              "    <tr>\n",
              "      <th>1</th>\n",
              "      <td>4.9</td>\n",
              "      <td>3.0</td>\n",
              "      <td>1.4</td>\n",
              "      <td>0.2</td>\n",
              "      <td>setosa</td>\n",
              "    </tr>\n",
              "    <tr>\n",
              "      <th>2</th>\n",
              "      <td>4.7</td>\n",
              "      <td>3.2</td>\n",
              "      <td>1.3</td>\n",
              "      <td>0.2</td>\n",
              "      <td>setosa</td>\n",
              "    </tr>\n",
              "    <tr>\n",
              "      <th>3</th>\n",
              "      <td>4.6</td>\n",
              "      <td>3.1</td>\n",
              "      <td>1.5</td>\n",
              "      <td>0.2</td>\n",
              "      <td>setosa</td>\n",
              "    </tr>\n",
              "    <tr>\n",
              "      <th>4</th>\n",
              "      <td>5.0</td>\n",
              "      <td>3.6</td>\n",
              "      <td>1.4</td>\n",
              "      <td>0.2</td>\n",
              "      <td>setosa</td>\n",
              "    </tr>\n",
              "    <tr>\n",
              "      <th>...</th>\n",
              "      <td>...</td>\n",
              "      <td>...</td>\n",
              "      <td>...</td>\n",
              "      <td>...</td>\n",
              "      <td>...</td>\n",
              "    </tr>\n",
              "    <tr>\n",
              "      <th>145</th>\n",
              "      <td>6.7</td>\n",
              "      <td>3.0</td>\n",
              "      <td>5.2</td>\n",
              "      <td>2.3</td>\n",
              "      <td>virginica</td>\n",
              "    </tr>\n",
              "    <tr>\n",
              "      <th>146</th>\n",
              "      <td>6.3</td>\n",
              "      <td>2.5</td>\n",
              "      <td>5.0</td>\n",
              "      <td>1.9</td>\n",
              "      <td>virginica</td>\n",
              "    </tr>\n",
              "    <tr>\n",
              "      <th>147</th>\n",
              "      <td>6.5</td>\n",
              "      <td>3.0</td>\n",
              "      <td>5.2</td>\n",
              "      <td>2.0</td>\n",
              "      <td>virginica</td>\n",
              "    </tr>\n",
              "    <tr>\n",
              "      <th>148</th>\n",
              "      <td>6.2</td>\n",
              "      <td>3.4</td>\n",
              "      <td>5.4</td>\n",
              "      <td>2.3</td>\n",
              "      <td>virginica</td>\n",
              "    </tr>\n",
              "    <tr>\n",
              "      <th>149</th>\n",
              "      <td>5.9</td>\n",
              "      <td>3.0</td>\n",
              "      <td>5.1</td>\n",
              "      <td>1.8</td>\n",
              "      <td>virginica</td>\n",
              "    </tr>\n",
              "  </tbody>\n",
              "</table>\n",
              "<p>150 rows × 5 columns</p>\n",
              "</div>"
            ],
            "text/plain": [
              "     sepal_length  sepal_width  petal_length  petal_width    species\n",
              "0             5.1          3.5           1.4          0.2     setosa\n",
              "1             4.9          3.0           1.4          0.2     setosa\n",
              "2             4.7          3.2           1.3          0.2     setosa\n",
              "3             4.6          3.1           1.5          0.2     setosa\n",
              "4             5.0          3.6           1.4          0.2     setosa\n",
              "..            ...          ...           ...          ...        ...\n",
              "145           6.7          3.0           5.2          2.3  virginica\n",
              "146           6.3          2.5           5.0          1.9  virginica\n",
              "147           6.5          3.0           5.2          2.0  virginica\n",
              "148           6.2          3.4           5.4          2.3  virginica\n",
              "149           5.9          3.0           5.1          1.8  virginica\n",
              "\n",
              "[150 rows x 5 columns]"
            ]
          },
          "execution_count": 37,
          "metadata": {},
          "output_type": "execute_result"
        }
      ],
      "source": [
        "iris = sns.load_dataset('iris')\n",
        "iris"
      ]
    },
    {
      "cell_type": "code",
      "execution_count": null,
      "id": "af604605-8e48-4806-a29a-8af0547dac36",
      "metadata": {
        "tags": [],
        "id": "af604605-8e48-4806-a29a-8af0547dac36",
        "outputId": "a1dcf3c6-941e-4eac-d18a-02057469b343"
      },
      "outputs": [
        {
          "data": {
            "text/plain": [
              "{'연도': [2015, 2016, 2016, 2017, 2017],\n",
              " '지사': ['한국', '한국', '미국', '한국', '미국'],\n",
              " '고객 수': [200, 250, 450, 300, 500]}"
            ]
          },
          "execution_count": 39,
          "metadata": {},
          "output_type": "execute_result"
        }
      ],
      "source": [
        "# p247 참고\n",
        "# p249 딕셔너리 스타일\n",
        "\n",
        "table_data = {\n",
        "    '연도' : [2015, 2016, 2016, 2017, 2017],\n",
        "    '지사' : ['한국', '한국', '미국', '한국', '미국'],\n",
        "    '고객 수' : [200, 250, 450, 300, 500]\n",
        "}\n",
        "\n",
        "table_data"
      ]
    },
    {
      "cell_type": "code",
      "execution_count": null,
      "id": "7591b442-178e-4513-9378-070a9071e631",
      "metadata": {
        "tags": [],
        "id": "7591b442-178e-4513-9378-070a9071e631",
        "outputId": "22cd1503-e672-4582-aa41-13ee1fa94757"
      },
      "outputs": [
        {
          "data": {
            "text/html": [
              "<div>\n",
              "<style scoped>\n",
              "    .dataframe tbody tr th:only-of-type {\n",
              "        vertical-align: middle;\n",
              "    }\n",
              "\n",
              "    .dataframe tbody tr th {\n",
              "        vertical-align: top;\n",
              "    }\n",
              "\n",
              "    .dataframe thead th {\n",
              "        text-align: right;\n",
              "    }\n",
              "</style>\n",
              "<table border=\"1\" class=\"dataframe\">\n",
              "  <thead>\n",
              "    <tr style=\"text-align: right;\">\n",
              "      <th></th>\n",
              "      <th>연도</th>\n",
              "      <th>지사</th>\n",
              "      <th>고객 수</th>\n",
              "    </tr>\n",
              "  </thead>\n",
              "  <tbody>\n",
              "    <tr>\n",
              "      <th>0</th>\n",
              "      <td>2015</td>\n",
              "      <td>한국</td>\n",
              "      <td>200</td>\n",
              "    </tr>\n",
              "    <tr>\n",
              "      <th>1</th>\n",
              "      <td>2016</td>\n",
              "      <td>한국</td>\n",
              "      <td>250</td>\n",
              "    </tr>\n",
              "    <tr>\n",
              "      <th>2</th>\n",
              "      <td>2016</td>\n",
              "      <td>미국</td>\n",
              "      <td>450</td>\n",
              "    </tr>\n",
              "    <tr>\n",
              "      <th>3</th>\n",
              "      <td>2017</td>\n",
              "      <td>한국</td>\n",
              "      <td>300</td>\n",
              "    </tr>\n",
              "    <tr>\n",
              "      <th>4</th>\n",
              "      <td>2017</td>\n",
              "      <td>미국</td>\n",
              "      <td>500</td>\n",
              "    </tr>\n",
              "  </tbody>\n",
              "</table>\n",
              "</div>"
            ],
            "text/plain": [
              "     연도  지사  고객 수\n",
              "0  2015  한국   200\n",
              "1  2016  한국   250\n",
              "2  2016  미국   450\n",
              "3  2017  한국   300\n",
              "4  2017  미국   500"
            ]
          },
          "execution_count": 48,
          "metadata": {},
          "output_type": "execute_result"
        }
      ],
      "source": [
        "data = pd.DataFrame(table_data)\n",
        "data"
      ]
    },
    {
      "cell_type": "code",
      "execution_count": null,
      "id": "5bcb25d6-c69d-4a21-a9b2-7f52b0320a0a",
      "metadata": {
        "tags": [],
        "id": "5bcb25d6-c69d-4a21-a9b2-7f52b0320a0a",
        "outputId": "00acd46f-e85c-4266-bd74-dcb0b462c53e"
      },
      "outputs": [
        {
          "data": {
            "text/plain": [
              "RangeIndex(start=0, stop=5, step=1)"
            ]
          },
          "execution_count": 45,
          "metadata": {},
          "output_type": "execute_result"
        }
      ],
      "source": [
        "data.index"
      ]
    },
    {
      "cell_type": "code",
      "execution_count": null,
      "id": "cb84560a-ba2f-4717-a4b6-74807fc24f85",
      "metadata": {
        "tags": [],
        "id": "cb84560a-ba2f-4717-a4b6-74807fc24f85",
        "outputId": "d02aae86-dbf0-4623-b59b-bab7a3b4e1b9"
      },
      "outputs": [
        {
          "data": {
            "text/plain": [
              "array([[2015, '한국', 200],\n",
              "       [2016, '한국', 250],\n",
              "       [2016, '미국', 450],\n",
              "       [2017, '한국', 300],\n",
              "       [2017, '미국', 500]], dtype=object)"
            ]
          },
          "execution_count": 46,
          "metadata": {},
          "output_type": "execute_result"
        }
      ],
      "source": [
        "data.values"
      ]
    },
    {
      "cell_type": "code",
      "execution_count": null,
      "id": "15d71f55-e5fc-4c93-9e62-72b44df5c80f",
      "metadata": {
        "tags": [],
        "id": "15d71f55-e5fc-4c93-9e62-72b44df5c80f",
        "outputId": "48392eeb-2789-4c3d-9468-3500378d9cad"
      },
      "outputs": [
        {
          "data": {
            "text/plain": [
              "(5, 3)"
            ]
          },
          "execution_count": 50,
          "metadata": {},
          "output_type": "execute_result"
        }
      ],
      "source": [
        "data.values.shape"
      ]
    },
    {
      "cell_type": "code",
      "execution_count": null,
      "id": "8056ea90-3e1f-4106-b0b8-7b016874be4f",
      "metadata": {
        "tags": [],
        "id": "8056ea90-3e1f-4106-b0b8-7b016874be4f",
        "outputId": "d880c54f-14b6-45aa-acc3-efb2bc09bf14"
      },
      "outputs": [
        {
          "data": {
            "text/plain": [
              "Index(['연도', '지사', '고객 수'], dtype='object')"
            ]
          },
          "execution_count": 51,
          "metadata": {},
          "output_type": "execute_result"
        }
      ],
      "source": [
        "data.columns"
      ]
    },
    {
      "cell_type": "markdown",
      "id": "ea08dbce-4843-4cdb-bcdd-c9a2c669bec3",
      "metadata": {
        "id": "ea08dbce-4843-4cdb-bcdd-c9a2c669bec3"
      },
      "source": [
        "- 데이터 가공 시, numpy 메서드와 pandas 메서드 조합을 해서 처리하는 경우가 많음\n",
        "     + vectorization 으로 처리 / 파이썬 기초문법 (for-loop) 대신\n",
        "     + 속도가 매우 빠름"
      ]
    },
    {
      "cell_type": "code",
      "execution_count": null,
      "id": "3a2ac843-76a5-4072-bde9-1d0d5fa1208e",
      "metadata": {
        "tags": [],
        "id": "3a2ac843-76a5-4072-bde9-1d0d5fa1208e",
        "outputId": "c486f3a4-8332-47a3-cd6f-c8195dc64da4"
      },
      "outputs": [
        {
          "data": {
            "text/html": [
              "<div>\n",
              "<style scoped>\n",
              "    .dataframe tbody tr th:only-of-type {\n",
              "        vertical-align: middle;\n",
              "    }\n",
              "\n",
              "    .dataframe tbody tr th {\n",
              "        vertical-align: top;\n",
              "    }\n",
              "\n",
              "    .dataframe thead th {\n",
              "        text-align: right;\n",
              "    }\n",
              "</style>\n",
              "<table border=\"1\" class=\"dataframe\">\n",
              "  <thead>\n",
              "    <tr style=\"text-align: right;\">\n",
              "      <th></th>\n",
              "      <th>survived</th>\n",
              "      <th>pclass</th>\n",
              "      <th>sex</th>\n",
              "      <th>age</th>\n",
              "      <th>sibsp</th>\n",
              "      <th>parch</th>\n",
              "      <th>fare</th>\n",
              "      <th>embarked</th>\n",
              "      <th>class</th>\n",
              "      <th>who</th>\n",
              "      <th>adult_male</th>\n",
              "      <th>deck</th>\n",
              "      <th>embark_town</th>\n",
              "      <th>alive</th>\n",
              "      <th>alone</th>\n",
              "    </tr>\n",
              "  </thead>\n",
              "  <tbody>\n",
              "    <tr>\n",
              "      <th>0</th>\n",
              "      <td>0</td>\n",
              "      <td>3</td>\n",
              "      <td>male</td>\n",
              "      <td>22.0</td>\n",
              "      <td>1</td>\n",
              "      <td>0</td>\n",
              "      <td>7.2500</td>\n",
              "      <td>S</td>\n",
              "      <td>Third</td>\n",
              "      <td>man</td>\n",
              "      <td>True</td>\n",
              "      <td>NaN</td>\n",
              "      <td>Southampton</td>\n",
              "      <td>no</td>\n",
              "      <td>False</td>\n",
              "    </tr>\n",
              "    <tr>\n",
              "      <th>1</th>\n",
              "      <td>1</td>\n",
              "      <td>1</td>\n",
              "      <td>female</td>\n",
              "      <td>38.0</td>\n",
              "      <td>1</td>\n",
              "      <td>0</td>\n",
              "      <td>71.2833</td>\n",
              "      <td>C</td>\n",
              "      <td>First</td>\n",
              "      <td>woman</td>\n",
              "      <td>False</td>\n",
              "      <td>C</td>\n",
              "      <td>Cherbourg</td>\n",
              "      <td>yes</td>\n",
              "      <td>False</td>\n",
              "    </tr>\n",
              "    <tr>\n",
              "      <th>2</th>\n",
              "      <td>1</td>\n",
              "      <td>3</td>\n",
              "      <td>female</td>\n",
              "      <td>26.0</td>\n",
              "      <td>0</td>\n",
              "      <td>0</td>\n",
              "      <td>7.9250</td>\n",
              "      <td>S</td>\n",
              "      <td>Third</td>\n",
              "      <td>woman</td>\n",
              "      <td>False</td>\n",
              "      <td>NaN</td>\n",
              "      <td>Southampton</td>\n",
              "      <td>yes</td>\n",
              "      <td>True</td>\n",
              "    </tr>\n",
              "    <tr>\n",
              "      <th>3</th>\n",
              "      <td>1</td>\n",
              "      <td>1</td>\n",
              "      <td>female</td>\n",
              "      <td>35.0</td>\n",
              "      <td>1</td>\n",
              "      <td>0</td>\n",
              "      <td>53.1000</td>\n",
              "      <td>S</td>\n",
              "      <td>First</td>\n",
              "      <td>woman</td>\n",
              "      <td>False</td>\n",
              "      <td>C</td>\n",
              "      <td>Southampton</td>\n",
              "      <td>yes</td>\n",
              "      <td>False</td>\n",
              "    </tr>\n",
              "    <tr>\n",
              "      <th>4</th>\n",
              "      <td>0</td>\n",
              "      <td>3</td>\n",
              "      <td>male</td>\n",
              "      <td>35.0</td>\n",
              "      <td>0</td>\n",
              "      <td>0</td>\n",
              "      <td>8.0500</td>\n",
              "      <td>S</td>\n",
              "      <td>Third</td>\n",
              "      <td>man</td>\n",
              "      <td>True</td>\n",
              "      <td>NaN</td>\n",
              "      <td>Southampton</td>\n",
              "      <td>no</td>\n",
              "      <td>True</td>\n",
              "    </tr>\n",
              "    <tr>\n",
              "      <th>...</th>\n",
              "      <td>...</td>\n",
              "      <td>...</td>\n",
              "      <td>...</td>\n",
              "      <td>...</td>\n",
              "      <td>...</td>\n",
              "      <td>...</td>\n",
              "      <td>...</td>\n",
              "      <td>...</td>\n",
              "      <td>...</td>\n",
              "      <td>...</td>\n",
              "      <td>...</td>\n",
              "      <td>...</td>\n",
              "      <td>...</td>\n",
              "      <td>...</td>\n",
              "      <td>...</td>\n",
              "    </tr>\n",
              "    <tr>\n",
              "      <th>886</th>\n",
              "      <td>0</td>\n",
              "      <td>2</td>\n",
              "      <td>male</td>\n",
              "      <td>27.0</td>\n",
              "      <td>0</td>\n",
              "      <td>0</td>\n",
              "      <td>13.0000</td>\n",
              "      <td>S</td>\n",
              "      <td>Second</td>\n",
              "      <td>man</td>\n",
              "      <td>True</td>\n",
              "      <td>NaN</td>\n",
              "      <td>Southampton</td>\n",
              "      <td>no</td>\n",
              "      <td>True</td>\n",
              "    </tr>\n",
              "    <tr>\n",
              "      <th>887</th>\n",
              "      <td>1</td>\n",
              "      <td>1</td>\n",
              "      <td>female</td>\n",
              "      <td>19.0</td>\n",
              "      <td>0</td>\n",
              "      <td>0</td>\n",
              "      <td>30.0000</td>\n",
              "      <td>S</td>\n",
              "      <td>First</td>\n",
              "      <td>woman</td>\n",
              "      <td>False</td>\n",
              "      <td>B</td>\n",
              "      <td>Southampton</td>\n",
              "      <td>yes</td>\n",
              "      <td>True</td>\n",
              "    </tr>\n",
              "    <tr>\n",
              "      <th>888</th>\n",
              "      <td>0</td>\n",
              "      <td>3</td>\n",
              "      <td>female</td>\n",
              "      <td>NaN</td>\n",
              "      <td>1</td>\n",
              "      <td>2</td>\n",
              "      <td>23.4500</td>\n",
              "      <td>S</td>\n",
              "      <td>Third</td>\n",
              "      <td>woman</td>\n",
              "      <td>False</td>\n",
              "      <td>NaN</td>\n",
              "      <td>Southampton</td>\n",
              "      <td>no</td>\n",
              "      <td>False</td>\n",
              "    </tr>\n",
              "    <tr>\n",
              "      <th>889</th>\n",
              "      <td>1</td>\n",
              "      <td>1</td>\n",
              "      <td>male</td>\n",
              "      <td>26.0</td>\n",
              "      <td>0</td>\n",
              "      <td>0</td>\n",
              "      <td>30.0000</td>\n",
              "      <td>C</td>\n",
              "      <td>First</td>\n",
              "      <td>man</td>\n",
              "      <td>True</td>\n",
              "      <td>C</td>\n",
              "      <td>Cherbourg</td>\n",
              "      <td>yes</td>\n",
              "      <td>True</td>\n",
              "    </tr>\n",
              "    <tr>\n",
              "      <th>890</th>\n",
              "      <td>0</td>\n",
              "      <td>3</td>\n",
              "      <td>male</td>\n",
              "      <td>32.0</td>\n",
              "      <td>0</td>\n",
              "      <td>0</td>\n",
              "      <td>7.7500</td>\n",
              "      <td>Q</td>\n",
              "      <td>Third</td>\n",
              "      <td>man</td>\n",
              "      <td>True</td>\n",
              "      <td>NaN</td>\n",
              "      <td>Queenstown</td>\n",
              "      <td>no</td>\n",
              "      <td>True</td>\n",
              "    </tr>\n",
              "  </tbody>\n",
              "</table>\n",
              "<p>891 rows × 15 columns</p>\n",
              "</div>"
            ],
            "text/plain": [
              "     survived  pclass     sex   age  sibsp  parch     fare embarked   class  \\\n",
              "0           0       3    male  22.0      1      0   7.2500        S   Third   \n",
              "1           1       1  female  38.0      1      0  71.2833        C   First   \n",
              "2           1       3  female  26.0      0      0   7.9250        S   Third   \n",
              "3           1       1  female  35.0      1      0  53.1000        S   First   \n",
              "4           0       3    male  35.0      0      0   8.0500        S   Third   \n",
              "..        ...     ...     ...   ...    ...    ...      ...      ...     ...   \n",
              "886         0       2    male  27.0      0      0  13.0000        S  Second   \n",
              "887         1       1  female  19.0      0      0  30.0000        S   First   \n",
              "888         0       3  female   NaN      1      2  23.4500        S   Third   \n",
              "889         1       1    male  26.0      0      0  30.0000        C   First   \n",
              "890         0       3    male  32.0      0      0   7.7500        Q   Third   \n",
              "\n",
              "       who  adult_male deck  embark_town alive  alone  \n",
              "0      man        True  NaN  Southampton    no  False  \n",
              "1    woman       False    C    Cherbourg   yes  False  \n",
              "2    woman       False  NaN  Southampton   yes   True  \n",
              "3    woman       False    C  Southampton   yes  False  \n",
              "4      man        True  NaN  Southampton    no   True  \n",
              "..     ...         ...  ...          ...   ...    ...  \n",
              "886    man        True  NaN  Southampton    no   True  \n",
              "887  woman       False    B  Southampton   yes   True  \n",
              "888  woman       False  NaN  Southampton    no  False  \n",
              "889    man        True    C    Cherbourg   yes   True  \n",
              "890    man        True  NaN   Queenstown    no   True  \n",
              "\n",
              "[891 rows x 15 columns]"
            ]
          },
          "execution_count": 53,
          "metadata": {},
          "output_type": "execute_result"
        }
      ],
      "source": [
        "titanic = sns.load_dataset('titanic')\n",
        "titanic"
      ]
    }
  ],
  "metadata": {
    "kernelspec": {
      "display_name": "Python 3 (ipykernel)",
      "language": "python",
      "name": "python3"
    },
    "language_info": {
      "codemirror_mode": {
        "name": "ipython",
        "version": 3
      },
      "file_extension": ".py",
      "mimetype": "text/x-python",
      "name": "python",
      "nbconvert_exporter": "python",
      "pygments_lexer": "ipython3",
      "version": "3.11.5"
    },
    "colab": {
      "provenance": [],
      "include_colab_link": true
    }
  },
  "nbformat": 4,
  "nbformat_minor": 5
}