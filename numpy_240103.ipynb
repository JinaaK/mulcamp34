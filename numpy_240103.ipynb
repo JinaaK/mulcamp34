{
  "cells": [
    {
      "cell_type": "markdown",
      "metadata": {
        "id": "view-in-github",
        "colab_type": "text"
      },
      "source": [
        "<a href=\"https://colab.research.google.com/github/JinaaK/mulcamp34/blob/main/numpy_240103.ipynb\" target=\"_parent\"><img src=\"https://colab.research.google.com/assets/colab-badge.svg\" alt=\"Open In Colab\"/></a>"
      ]
    },
    {
      "cell_type": "code",
      "execution_count": null,
      "id": "e8bdd775-4a7d-444e-a373-5f06dcbf078e",
      "metadata": {
        "tags": [],
        "id": "e8bdd775-4a7d-444e-a373-5f06dcbf078e",
        "outputId": "fa9c8f50-6fbd-4b59-e136-ea821487d236"
      },
      "outputs": [
        {
          "name": "stdout",
          "output_type": "stream",
          "text": [
            "1.24.3\n"
          ]
        }
      ],
      "source": [
        "import numpy as np\n",
        "\n",
        "print(np.__version__)"
      ]
    },
    {
      "cell_type": "code",
      "execution_count": null,
      "id": "2c3a4aba-1299-4c5d-885c-2c558abece6d",
      "metadata": {
        "tags": [],
        "id": "2c3a4aba-1299-4c5d-885c-2c558abece6d",
        "outputId": "a46f75b1-1765-4559-b551-0032699d20fd"
      },
      "outputs": [
        {
          "data": {
            "text/plain": [
              "[1, 2, 3, 4, 3, 4, 5, 6]"
            ]
          },
          "execution_count": 4,
          "metadata": {},
          "output_type": "execute_result"
        }
      ],
      "source": [
        "num1 = [1, 2, 3, 4]\n",
        "num2 = [3, 4, 5, 6]\n",
        "\n",
        "num1 + num2"
      ]
    },
    {
      "cell_type": "code",
      "execution_count": null,
      "id": "cdae85fc-d702-4c3c-a444-3a1bf9c6de0e",
      "metadata": {
        "tags": [],
        "id": "cdae85fc-d702-4c3c-a444-3a1bf9c6de0e",
        "outputId": "4fb3e9f1-3116-40d4-ea16-035865b3357f"
      },
      "outputs": [
        {
          "data": {
            "text/plain": [
              "array([1, 2, 3, 4])"
            ]
          },
          "execution_count": 6,
          "metadata": {},
          "output_type": "execute_result"
        }
      ],
      "source": [
        "arr1 = np.array(num1)\n",
        "arr2 = np.array(num2)\n",
        "arr1"
      ]
    },
    {
      "cell_type": "code",
      "execution_count": null,
      "id": "fb680f62-eceb-4b0c-84a1-ef247c19ef04",
      "metadata": {
        "tags": [],
        "id": "fb680f62-eceb-4b0c-84a1-ef247c19ef04",
        "outputId": "5df84c5c-610d-453c-c435-742e6c9ad39a"
      },
      "outputs": [
        {
          "data": {
            "text/plain": [
              "array([3, 4, 5, 6])"
            ]
          },
          "execution_count": 7,
          "metadata": {},
          "output_type": "execute_result"
        }
      ],
      "source": [
        "arr2"
      ]
    },
    {
      "cell_type": "code",
      "execution_count": null,
      "id": "5134bd98-424a-4733-859c-eb8753809b22",
      "metadata": {
        "tags": [],
        "id": "5134bd98-424a-4733-859c-eb8753809b22",
        "outputId": "18549f3b-3956-4455-ae37-f1abb0004945"
      },
      "outputs": [
        {
          "data": {
            "text/plain": [
              "array([ 4,  6,  8, 10])"
            ]
          },
          "execution_count": 8,
          "metadata": {},
          "output_type": "execute_result"
        }
      ],
      "source": [
        "arr1 + arr2"
      ]
    },
    {
      "cell_type": "code",
      "execution_count": null,
      "id": "9e1b59a4-8fa5-4704-a411-298675573e8e",
      "metadata": {
        "tags": [],
        "id": "9e1b59a4-8fa5-4704-a411-298675573e8e",
        "outputId": "85e0dfa8-7867-48ab-8e83-a897ac7ef459"
      },
      "outputs": [
        {
          "name": "stdout",
          "output_type": "stream",
          "text": [
            "원래 배열: [ 1.          2.71828183  7.3890561  10.        ]\n",
            "자연로그 계산된 배열: [0.         1.         2.         2.30258509]\n"
          ]
        }
      ],
      "source": [
        "import numpy as np\n",
        "\n",
        "# 배열 생성\n",
        "arr = np.array([1, np.e, np.e**2, 10])\n",
        "\n",
        "# 자연로그 계산\n",
        "log_arr = np.log(arr)\n",
        "\n",
        "print(\"원래 배열:\", arr)\n",
        "print(\"자연로그 계산된 배열:\", log_arr)"
      ]
    },
    {
      "cell_type": "code",
      "execution_count": null,
      "id": "848b8aa0-ca8d-4912-94c5-84305da58f76",
      "metadata": {
        "tags": [],
        "id": "848b8aa0-ca8d-4912-94c5-84305da58f76",
        "outputId": "5490d59b-9457-4f0d-ec97-ff0977d5245b"
      },
      "outputs": [
        {
          "data": {
            "text/plain": [
              "array([0, 1, 2, 3, 4, 5])"
            ]
          },
          "execution_count": 11,
          "metadata": {},
          "output_type": "execute_result"
        }
      ],
      "source": [
        "data1 = [0, 1, 2, 3, 4, 5]\n",
        "a1 = np.array(data1)\n",
        "a1"
      ]
    },
    {
      "cell_type": "code",
      "execution_count": null,
      "id": "423e1cfb-fa20-41d2-9b0b-7dd857dcb5b0",
      "metadata": {
        "tags": [],
        "id": "423e1cfb-fa20-41d2-9b0b-7dd857dcb5b0",
        "outputId": "85fb5490-bf82-41cd-8ca2-256b93e177fa"
      },
      "outputs": [
        {
          "data": {
            "text/plain": [
              "dtype('int32')"
            ]
          },
          "execution_count": 12,
          "metadata": {},
          "output_type": "execute_result"
        }
      ],
      "source": [
        "a1.dtype # python int # python int8, int16, int32, int64"
      ]
    },
    {
      "cell_type": "code",
      "execution_count": null,
      "id": "5551898e-f69e-4611-999a-6bee80f8bab8",
      "metadata": {
        "tags": [],
        "id": "5551898e-f69e-4611-999a-6bee80f8bab8",
        "outputId": "4d1e1ec8-f2eb-4c3c-871b-ebdf69a6f703"
      },
      "outputs": [
        {
          "data": {
            "text/plain": [
              "dtype('float64')"
            ]
          },
          "execution_count": 13,
          "metadata": {},
          "output_type": "execute_result"
        }
      ],
      "source": [
        "np.array([0.5, 2, 0.01, 8]).dtype"
      ]
    },
    {
      "cell_type": "code",
      "execution_count": null,
      "id": "86e8b43a-219b-42d7-9a39-4853bbe277db",
      "metadata": {
        "id": "86e8b43a-219b-42d7-9a39-4853bbe277db"
      },
      "outputs": [],
      "source": [
        "## Numpy 배열 생성\n",
        "- 1차원, 2차원, 3차원 ... 배열 생성"
      ]
    },
    {
      "cell_type": "code",
      "execution_count": null,
      "id": "85bdc7d3-e0f0-4d00-8ab4-34e22c0df181",
      "metadata": {
        "tags": [],
        "id": "85bdc7d3-e0f0-4d00-8ab4-34e22c0df181",
        "outputId": "41517b8d-067c-4903-fa7c-676eced06eaa"
      },
      "outputs": [
        {
          "data": {
            "text/plain": [
              "array([0, 2, 4, 6, 8])"
            ]
          },
          "execution_count": 15,
          "metadata": {},
          "output_type": "execute_result"
        }
      ],
      "source": [
        "np.arange(0, 10, 2)"
      ]
    },
    {
      "cell_type": "code",
      "execution_count": null,
      "id": "1dbfe8e2-f9b9-49c7-8a5a-fcb5f5117a1b",
      "metadata": {
        "tags": [],
        "id": "1dbfe8e2-f9b9-49c7-8a5a-fcb5f5117a1b",
        "outputId": "4bdefa05-0103-4da8-e949-faa42df9e4cb"
      },
      "outputs": [
        {
          "data": {
            "text/plain": [
              "array([0, 1, 2, 3, 4, 5, 6, 7, 8, 9])"
            ]
          },
          "execution_count": 18,
          "metadata": {},
          "output_type": "execute_result"
        }
      ],
      "source": [
        "np.arange(0, 10)"
      ]
    },
    {
      "cell_type": "code",
      "execution_count": null,
      "id": "37405ecd-55f6-4ae2-aba7-76ad255b54e0",
      "metadata": {
        "tags": [],
        "id": "37405ecd-55f6-4ae2-aba7-76ad255b54e0",
        "outputId": "7430705d-114e-4c6a-8375-39b4e1e21649"
      },
      "outputs": [
        {
          "data": {
            "text/plain": [
              "array([0, 1, 2, 3, 4, 5, 6, 7, 8, 9])"
            ]
          },
          "execution_count": 20,
          "metadata": {},
          "output_type": "execute_result"
        }
      ],
      "source": [
        "np.arange(10) # 1차원 배열, 2차원 또는 3차원으로 변경"
      ]
    },
    {
      "cell_type": "code",
      "execution_count": null,
      "id": "a4bf06f4-e753-4ae5-8743-f0eaa6867b38",
      "metadata": {
        "tags": [],
        "id": "a4bf06f4-e753-4ae5-8743-f0eaa6867b38",
        "outputId": "391ee9f5-28a7-4f36-c3e3-00c776854cf6"
      },
      "outputs": [
        {
          "data": {
            "text/plain": [
              "array([[ 0,  1,  2],\n",
              "       [ 3,  4,  5],\n",
              "       [ 6,  7,  8],\n",
              "       [ 9, 10, 11]])"
            ]
          },
          "execution_count": 22,
          "metadata": {},
          "output_type": "execute_result"
        }
      ],
      "source": [
        "np.arange(12).reshape(4, 3)"
      ]
    },
    {
      "cell_type": "code",
      "execution_count": null,
      "id": "70a39580-afbb-4bf7-ad21-1d8e9c75704e",
      "metadata": {
        "tags": [],
        "id": "70a39580-afbb-4bf7-ad21-1d8e9c75704e",
        "outputId": "4e2fa6d8-423d-42c4-959b-bae1b6800a8b"
      },
      "outputs": [
        {
          "ename": "ValueError",
          "evalue": "cannot reshape array of size 12 into shape (4,5)",
          "output_type": "error",
          "traceback": [
            "\u001b[1;31m---------------------------------------------------------------------------\u001b[0m",
            "\u001b[1;31mValueError\u001b[0m                                Traceback (most recent call last)",
            "Cell \u001b[1;32mIn[23], line 1\u001b[0m\n\u001b[1;32m----> 1\u001b[0m np\u001b[38;5;241m.\u001b[39marange(\u001b[38;5;241m12\u001b[39m)\u001b[38;5;241m.\u001b[39mreshape(\u001b[38;5;241m4\u001b[39m, \u001b[38;5;241m5\u001b[39m)\n",
            "\u001b[1;31mValueError\u001b[0m: cannot reshape array of size 12 into shape (4,5)"
          ]
        }
      ],
      "source": [
        "np.arange(12).reshape(4, 5)"
      ]
    },
    {
      "cell_type": "code",
      "execution_count": null,
      "id": "af1f5b5a-ccba-40f0-9c92-e30bef05aece",
      "metadata": {
        "tags": [],
        "id": "af1f5b5a-ccba-40f0-9c92-e30bef05aece",
        "outputId": "930069ff-3f10-4bba-ba01-5596df9b23d2"
      },
      "outputs": [
        {
          "data": {
            "text/plain": [
              "array([[[ 0,  1,  2],\n",
              "        [ 3,  4,  5]],\n",
              "\n",
              "       [[ 6,  7,  8],\n",
              "        [ 9, 10, 11]]])"
            ]
          },
          "execution_count": 24,
          "metadata": {},
          "output_type": "execute_result"
        }
      ],
      "source": [
        "np.arange(12).reshape(2, 2, 3)"
      ]
    },
    {
      "cell_type": "code",
      "execution_count": null,
      "id": "67a0f39c-974f-4865-9ef6-dd05cab95c89",
      "metadata": {
        "tags": [],
        "id": "67a0f39c-974f-4865-9ef6-dd05cab95c89",
        "outputId": "81de9e66-2278-4bcd-f559-05e6233294e6"
      },
      "outputs": [
        {
          "data": {
            "text/plain": [
              "(2, 2, 3)"
            ]
          },
          "execution_count": 26,
          "metadata": {},
          "output_type": "execute_result"
        }
      ],
      "source": [
        "b1 = np.arange(12).reshape(2, 2, 3)\n",
        "b1.shape"
      ]
    },
    {
      "cell_type": "code",
      "execution_count": null,
      "id": "62243527-61dd-4d9d-ad0b-7e1573cb8ff5",
      "metadata": {
        "tags": [],
        "id": "62243527-61dd-4d9d-ad0b-7e1573cb8ff5",
        "outputId": "ad3e739f-aefd-4e13-a6f5-90bdac014add"
      },
      "outputs": [
        {
          "data": {
            "text/plain": [
              "(5,)"
            ]
          },
          "execution_count": 28,
          "metadata": {},
          "output_type": "execute_result"
        }
      ],
      "source": [
        "b2 = np.arange(5)\n",
        "b2.shape # (5,) => 1차원이라는 것"
      ]
    },
    {
      "cell_type": "code",
      "execution_count": null,
      "id": "4f3a329e-10e8-42be-97b7-f15031538cf5",
      "metadata": {
        "tags": [],
        "id": "4f3a329e-10e8-42be-97b7-f15031538cf5",
        "outputId": "7d39351a-14e8-4f98-bfbb-e006c5159e87"
      },
      "outputs": [
        {
          "data": {
            "text/plain": [
              "array([ 0. ,  2.5,  5. ,  7.5, 10. ])"
            ]
          },
          "execution_count": 29,
          "metadata": {},
          "output_type": "execute_result"
        }
      ],
      "source": [
        "# 범위의 시작과 끝 정하기 배열 생성\n",
        "np.linspace(0, 10, 5) # 0부터 10까지 숫자 중에서 5개 값을 생성해달라고 요청"
      ]
    },
    {
      "cell_type": "code",
      "execution_count": null,
      "id": "c78ea56c-16c8-4f0c-bae5-4779c9ba3b4c",
      "metadata": {
        "tags": [],
        "id": "c78ea56c-16c8-4f0c-bae5-4779c9ba3b4c",
        "outputId": "a19d628e-102b-4a09-a1f5-d9ae586d4270"
      },
      "outputs": [
        {
          "data": {
            "text/plain": [
              "array([0.        , 0.16534698, 0.33069396, 0.49604095, 0.66138793,\n",
              "       0.82673491, 0.99208189, 1.15742887, 1.32277585, 1.48812284,\n",
              "       1.65346982, 1.8188168 , 1.98416378, 2.14951076, 2.31485774,\n",
              "       2.48020473, 2.64555171, 2.81089869, 2.97624567, 3.14159265])"
            ]
          },
          "execution_count": 31,
          "metadata": {},
          "output_type": "execute_result"
        }
      ],
      "source": [
        "np.linspace(0, np.pi, 20)"
      ]
    },
    {
      "cell_type": "code",
      "execution_count": null,
      "id": "3f4fa919-c357-498a-96be-c66d9ab41013",
      "metadata": {
        "tags": [],
        "id": "3f4fa919-c357-498a-96be-c66d9ab41013",
        "outputId": "e00e0835-ef9e-4590-e733-b0c9b61f858c"
      },
      "outputs": [
        {
          "data": {
            "text/plain": [
              "array([0., 0., 0., 0., 0., 0., 0., 0., 0., 0.])"
            ]
          },
          "execution_count": 32,
          "metadata": {},
          "output_type": "execute_result"
        }
      ],
      "source": [
        "np.zeros(10)"
      ]
    },
    {
      "cell_type": "code",
      "execution_count": null,
      "id": "32c95f76-061f-49e6-84ae-eb2382edd33e",
      "metadata": {
        "tags": [],
        "id": "32c95f76-061f-49e6-84ae-eb2382edd33e",
        "outputId": "461c48fe-c56a-4c54-f136-a89a745ee590"
      },
      "outputs": [
        {
          "data": {
            "text/plain": [
              "array([[0., 0.],\n",
              "       [0., 0.]])"
            ]
          },
          "execution_count": 34,
          "metadata": {},
          "output_type": "execute_result"
        }
      ],
      "source": [
        "np.zeros((2, 2))"
      ]
    },
    {
      "cell_type": "code",
      "execution_count": null,
      "id": "3b22a6b0-2e3c-4bcc-ab14-6098a34b2325",
      "metadata": {
        "tags": [],
        "id": "3b22a6b0-2e3c-4bcc-ab14-6098a34b2325",
        "outputId": "4ef50459-f27f-4839-80ed-5fb26eee2d28"
      },
      "outputs": [
        {
          "data": {
            "text/plain": [
              "array([1., 1., 1., 1., 1., 1., 1., 1., 1., 1.])"
            ]
          },
          "execution_count": 35,
          "metadata": {},
          "output_type": "execute_result"
        }
      ],
      "source": [
        "np.ones(10)"
      ]
    },
    {
      "cell_type": "code",
      "execution_count": null,
      "id": "32327bb0-6927-4bbb-bb73-5eba61107427",
      "metadata": {
        "tags": [],
        "id": "32327bb0-6927-4bbb-bb73-5eba61107427",
        "outputId": "18bf8552-dc17-4811-bcd8-56a1f0df8093"
      },
      "outputs": [
        {
          "data": {
            "text/plain": [
              "array([[1., 1.],\n",
              "       [1., 1.]])"
            ]
          },
          "execution_count": 36,
          "metadata": {},
          "output_type": "execute_result"
        }
      ],
      "source": [
        "np.ones((2, 2))"
      ]
    },
    {
      "cell_type": "markdown",
      "id": "210ae3c5-37fb-4c13-aa60-5fc7bb1ac7b4",
      "metadata": {
        "tags": [],
        "id": "210ae3c5-37fb-4c13-aa60-5fc7bb1ac7b4"
      },
      "source": [
        "## Numpy 기초 문법 배우는 이유\n",
        "- 문과생 : 데이터 분석가, 기초문법 있다는 것을 이해하고 넘어가면 끝\n",
        "- 이공계 : 수치연산, 배열, 수식을 활용해서 문제 풀이\n",
        "    + 클래스, 딥러닝 클래스, Numpy를 활용해서 딥러닝 알고리즘을 적용해서 클래스 & 라이브러리\n",
        "    + 밑바닥부터 시작하는 딥러닝3"
      ]
    },
    {
      "cell_type": "code",
      "execution_count": null,
      "id": "84154597-9bb8-4667-b42c-b1228eac211d",
      "metadata": {
        "tags": [],
        "id": "84154597-9bb8-4667-b42c-b1228eac211d",
        "outputId": "1a39c8a7-63bd-4b07-827b-debccd2499e1"
      },
      "outputs": [
        {
          "data": {
            "text/plain": [
              "array([[1., 0., 0.],\n",
              "       [0., 1., 0.],\n",
              "       [0., 0., 1.]])"
            ]
          },
          "execution_count": 39,
          "metadata": {},
          "output_type": "execute_result"
        }
      ],
      "source": [
        "# 단위행렬\n",
        "arr_I = np.eye(3)\n",
        "arr_I"
      ]
    },
    {
      "cell_type": "code",
      "execution_count": null,
      "id": "d4bfb657-08e0-421d-9f49-b3cbfaa305b6",
      "metadata": {
        "tags": [],
        "id": "d4bfb657-08e0-421d-9f49-b3cbfaa305b6",
        "outputId": "29b68424-e2d3-47b6-e39c-1ccd5e0ce3e4"
      },
      "outputs": [
        {
          "data": {
            "text/plain": [
              "(3, 3)"
            ]
          },
          "execution_count": 40,
          "metadata": {},
          "output_type": "execute_result"
        }
      ],
      "source": [
        "arr_I.shape"
      ]
    },
    {
      "cell_type": "code",
      "execution_count": null,
      "id": "f9882a35-b238-4a25-b87d-d6184fa7077e",
      "metadata": {
        "tags": [],
        "id": "f9882a35-b238-4a25-b87d-d6184fa7077e",
        "outputId": "95c14d78-5eda-4525-e85e-5a6974873dcc"
      },
      "outputs": [
        {
          "data": {
            "text/plain": [
              "array(['1.5', '0.62'], dtype='<U4')"
            ]
          },
          "execution_count": 44,
          "metadata": {},
          "output_type": "execute_result"
        }
      ],
      "source": [
        "np.array(['1.5', '0.62']) # 데이터 형변환"
      ]
    },
    {
      "cell_type": "code",
      "execution_count": null,
      "id": "4c9f0ffc-96a4-4b38-ac11-a64ced7b7e4b",
      "metadata": {
        "tags": [],
        "id": "4c9f0ffc-96a4-4b38-ac11-a64ced7b7e4b",
        "outputId": "08d55388-e362-4b85-ca83-5db786aa0c5e"
      },
      "outputs": [
        {
          "data": {
            "text/plain": [
              "dtype('float64')"
            ]
          },
          "execution_count": 48,
          "metadata": {},
          "output_type": "execute_result"
        }
      ],
      "source": [
        "# astype() # pandas에서도 사용 가능\n",
        "arr = np.array(['1.5', '0.62'])\n",
        "num_arr = arr.astype(float)\n",
        "num_arr.dtype"
      ]
    },
    {
      "cell_type": "code",
      "execution_count": null,
      "id": "f797846c-2ed8-40e5-aab6-bfb322818b8b",
      "metadata": {
        "tags": [],
        "id": "f797846c-2ed8-40e5-aab6-bfb322818b8b",
        "outputId": "2556849f-88a7-4dda-dd73-6b0b2b76685f"
      },
      "outputs": [
        {
          "data": {
            "text/plain": [
              "array([10, 21,  0,  4,  5])"
            ]
          },
          "execution_count": 51,
          "metadata": {},
          "output_type": "execute_result"
        }
      ],
      "source": [
        "num_f1 = np.array([10, 21, 0.549, 4.75, 5.98])\n",
        "num_f1 = num_f1.astype(int)\n",
        "num_f1"
      ]
    },
    {
      "cell_type": "code",
      "execution_count": null,
      "id": "5a8f0d83-50f5-4ef0-8ef8-cf680064a269",
      "metadata": {
        "tags": [],
        "id": "5a8f0d83-50f5-4ef0-8ef8-cf680064a269",
        "outputId": "3f9d1701-6b62-497f-9b2c-b1ce925bfc62"
      },
      "outputs": [
        {
          "data": {
            "text/plain": [
              "array([10.   , 21.   ,  0.549,  4.75 ,  5.98 ])"
            ]
          },
          "execution_count": 55,
          "metadata": {},
          "output_type": "execute_result"
        }
      ],
      "source": [
        "num_f1 = np.array([10, 21, 0.549, 4.75, 5.98])\n",
        "num_f1 = num_f1.astype(float)\n",
        "num_f1"
      ]
    },
    {
      "cell_type": "code",
      "execution_count": null,
      "id": "d42b6a26-a552-433d-919a-2d5acfacbeab",
      "metadata": {
        "tags": [],
        "id": "d42b6a26-a552-433d-919a-2d5acfacbeab",
        "outputId": "9b5844d3-0e6b-4a87-8882-3d909a9da612"
      },
      "outputs": [
        {
          "data": {
            "text/plain": [
              "array([[0.24945416, 0.48973284, 0.80633022],\n",
              "       [0.09285956, 0.86042556, 0.84168378]])"
            ]
          },
          "execution_count": 57,
          "metadata": {},
          "output_type": "execute_result"
        }
      ],
      "source": [
        "# p.224\n",
        "# 난수는 무작위로 숫자를 추출한다\n",
        "\n",
        "np.random.rand(2, 3) # random 0 ~ 1 사이의 실수 난수를 갖는다"
      ]
    },
    {
      "cell_type": "code",
      "execution_count": null,
      "id": "18418fb2-1211-4c5b-ad0a-f2642f3a77f7",
      "metadata": {
        "tags": [],
        "id": "18418fb2-1211-4c5b-ad0a-f2642f3a77f7",
        "outputId": "91d9265a-46f0-402a-b862-32b9f1df38b7"
      },
      "outputs": [
        {
          "data": {
            "text/plain": [
              "2"
            ]
          },
          "execution_count": 58,
          "metadata": {},
          "output_type": "execute_result"
        }
      ],
      "source": [
        "np.random.randint(2, 3)"
      ]
    },
    {
      "cell_type": "code",
      "execution_count": null,
      "id": "58d3f74b-dffa-42f9-87c0-c91118a76bdb",
      "metadata": {
        "tags": [],
        "id": "58d3f74b-dffa-42f9-87c0-c91118a76bdb",
        "outputId": "93eb358b-8018-40ce-8d1d-941351393d4c"
      },
      "outputs": [
        {
          "data": {
            "text/plain": [
              "array([36, 14, 52,  5,  8, 98, 64, 28, 36, 50])"
            ]
          },
          "execution_count": 61,
          "metadata": {},
          "output_type": "execute_result"
        }
      ],
      "source": [
        "np.random.randint(1, 100, 10) # randint는 시작과 끝을 정해주고 뽑을 갯수를 정함"
      ]
    },
    {
      "cell_type": "code",
      "execution_count": null,
      "id": "117ad76e-6366-46d2-88f0-577c451744ea",
      "metadata": {
        "tags": [],
        "id": "117ad76e-6366-46d2-88f0-577c451744ea",
        "outputId": "eebdc5b9-ee5a-4e86-ba71-3ca6b938e924"
      },
      "outputs": [
        {
          "data": {
            "text/plain": [
              "array([16, 35, 19, 41,  6, 26])"
            ]
          },
          "execution_count": 69,
          "metadata": {},
          "output_type": "execute_result"
        }
      ],
      "source": [
        "# 로또 번호 생성기\n",
        "np.random.randint(1, 45, 6)"
      ]
    },
    {
      "cell_type": "code",
      "execution_count": null,
      "id": "fe771890-6e21-4341-9b07-75816bda5d12",
      "metadata": {
        "tags": [],
        "id": "fe771890-6e21-4341-9b07-75816bda5d12",
        "outputId": "7324bd5b-a587-4ec4-897b-f87a4d8f7f44"
      },
      "outputs": [
        {
          "name": "stdout",
          "output_type": "stream",
          "text": [
            "{32, 33, 4, 43, 16, 28}\n"
          ]
        }
      ],
      "source": [
        "a = np.random.randint(1, 45, 6)\n",
        "b = set(a)\n",
        "print(b)"
      ]
    },
    {
      "cell_type": "code",
      "execution_count": null,
      "id": "9f64f851-e0b1-4646-8061-d4ddb451838f",
      "metadata": {
        "tags": [],
        "id": "9f64f851-e0b1-4646-8061-d4ddb451838f",
        "outputId": "d49e8daa-c558-424e-cdfc-67b7e5ce59f3"
      },
      "outputs": [
        {
          "name": "stdout",
          "output_type": "stream",
          "text": [
            "생성된 로또 번호: [13, 15, 24, 32, 39, 40]\n"
          ]
        }
      ],
      "source": [
        "import random\n",
        "\n",
        "def generate_lotto_numbers():\n",
        "    \"\"\"\n",
        "    1부터 45까지의 숫자 중 무작위로 6개를 선택하여 로또 번호를 생성합니다.\n",
        "    이 때, 중복된 숫자가 없도록 합니다.\n",
        "    \"\"\"\n",
        "    lotto_numbers = set()\n",
        "\n",
        "    while len(lotto_numbers) < 6:\n",
        "        number = random.randint(1, 45)\n",
        "        lotto_numbers.add(number)\n",
        "\n",
        "    return sorted(lotto_numbers)\n",
        "\n",
        "# 로또 번호 생성\n",
        "lotto_numbers = generate_lotto_numbers()\n",
        "print(\"생성된 로또 번호:\", lotto_numbers)"
      ]
    },
    {
      "cell_type": "markdown",
      "id": "bda923c0-4e21-49b5-9eb7-651ec22b5386",
      "metadata": {
        "id": "bda923c0-4e21-49b5-9eb7-651ec22b5386"
      },
      "source": [
        "## 배열의 연산\n",
        "- p. 225"
      ]
    },
    {
      "cell_type": "code",
      "execution_count": null,
      "id": "0c05f4c5-9715-4bc4-bf6d-8c43d334b6db",
      "metadata": {
        "tags": [],
        "id": "0c05f4c5-9715-4bc4-bf6d-8c43d334b6db",
        "outputId": "cdedcda8-fb24-48f9-cf46-ebad0f60397c"
      },
      "outputs": [
        {
          "name": "stdout",
          "output_type": "stream",
          "text": [
            "[11 22 33 44]\n",
            "[ 9 18 27 36]\n",
            "[ 10  40  90 160]\n",
            "[10. 10. 10. 10.]\n"
          ]
        }
      ],
      "source": [
        "arr1 = np.array([10, 20, 30, 40])\n",
        "arr2 = np.array([1, 2, 3, 4])\n",
        "\n",
        "print(arr1 + arr2)\n",
        "print(arr1 - arr2)\n",
        "print(arr1 * arr2)\n",
        "print(arr1 / arr2)"
      ]
    },
    {
      "cell_type": "markdown",
      "id": "6eb1f835-d62c-47e1-accd-67c88bd48544",
      "metadata": {
        "tags": [],
        "id": "6eb1f835-d62c-47e1-accd-67c88bd48544"
      },
      "source": [
        "## 비교연산"
      ]
    },
    {
      "cell_type": "code",
      "execution_count": null,
      "id": "6060bf6f-94cf-4bf4-bc17-de85385b8839",
      "metadata": {
        "tags": [],
        "id": "6060bf6f-94cf-4bf4-bc17-de85385b8839",
        "outputId": "316511ed-7406-4eda-c46d-0bf7578b58c8"
      },
      "outputs": [
        {
          "data": {
            "text/plain": [
              "array([False, False,  True,  True])"
            ]
          },
          "execution_count": 84,
          "metadata": {},
          "output_type": "execute_result"
        }
      ],
      "source": [
        "arr1 > 20"
      ]
    },
    {
      "cell_type": "markdown",
      "id": "6f9cf3a4-8ac4-469c-ade0-19cf2cb24a37",
      "metadata": {
        "id": "6f9cf3a4-8ac4-469c-ade0-19cf2cb24a37"
      },
      "source": [
        "## 통계 연산\n",
        "- Numpy에는 합, 평균, 표준 편차, 분산, 최솟값, 최댓값, 누적합, 누적 곱 메서드가 존재한다.\n",
        "    + 기술 통계량 (Descriptive Statistics): 현재 데이터 상태를 표현 (= 묘사, Describe) 한다\n",
        "- 통계: 평균이 전부다! (Mean is Everything)\n",
        "  "
      ]
    },
    {
      "cell_type": "code",
      "execution_count": null,
      "id": "e4c8851c-caa2-479f-add5-79a30f84775b",
      "metadata": {
        "tags": [],
        "id": "e4c8851c-caa2-479f-add5-79a30f84775b",
        "outputId": "15a44b4f-e02c-44ee-bfc3-a4f883857b5e"
      },
      "outputs": [
        {
          "data": {
            "text/plain": [
              "array([0, 1, 2, 3, 4])"
            ]
          },
          "execution_count": 85,
          "metadata": {},
          "output_type": "execute_result"
        }
      ],
      "source": [
        "arr3 = np.arange(5)\n",
        "arr3"
      ]
    },
    {
      "cell_type": "code",
      "execution_count": null,
      "id": "488e2307-cc92-4d98-8796-ee025cdea4e0",
      "metadata": {
        "tags": [],
        "id": "488e2307-cc92-4d98-8796-ee025cdea4e0",
        "outputId": "30b0e6cf-6d19-4f13-9b0d-b6dafef6dfea"
      },
      "outputs": [
        {
          "data": {
            "text/plain": [
              "10"
            ]
          },
          "execution_count": 87,
          "metadata": {},
          "output_type": "execute_result"
        }
      ],
      "source": [
        "arr3.sum()"
      ]
    },
    {
      "cell_type": "code",
      "execution_count": null,
      "id": "2dfb3e97-784c-4344-bf0b-a0f1e6bc9e91",
      "metadata": {
        "tags": [],
        "id": "2dfb3e97-784c-4344-bf0b-a0f1e6bc9e91",
        "outputId": "5282d912-4a54-430a-b6bc-b84ded998e51"
      },
      "outputs": [
        {
          "data": {
            "text/plain": [
              "2.0"
            ]
          },
          "execution_count": 89,
          "metadata": {},
          "output_type": "execute_result"
        }
      ],
      "source": [
        "arr3.mean()"
      ]
    },
    {
      "cell_type": "code",
      "execution_count": null,
      "id": "806a0cb3-f5fe-44b4-ba6b-5153886d9bbb",
      "metadata": {
        "tags": [],
        "id": "806a0cb3-f5fe-44b4-ba6b-5153886d9bbb",
        "outputId": "0d450b36-91cd-40fc-e202-6dabe3cbb1b4"
      },
      "outputs": [
        {
          "data": {
            "text/plain": [
              "1.4142135623730951"
            ]
          },
          "execution_count": 91,
          "metadata": {},
          "output_type": "execute_result"
        }
      ],
      "source": [
        "arr3.std() # 표준편차"
      ]
    },
    {
      "cell_type": "code",
      "execution_count": null,
      "id": "a80adaf4-e2a6-411c-8936-54ada8a3a787",
      "metadata": {
        "tags": [],
        "id": "a80adaf4-e2a6-411c-8936-54ada8a3a787",
        "outputId": "dd26c802-2006-4fbd-cfa4-c348032b0679"
      },
      "outputs": [
        {
          "data": {
            "text/plain": [
              "2.0"
            ]
          },
          "execution_count": 93,
          "metadata": {},
          "output_type": "execute_result"
        }
      ],
      "source": [
        "arr3.var() # 분산"
      ]
    },
    {
      "cell_type": "markdown",
      "id": "ed85925c-e6e1-44d3-8771-099cbe98d717",
      "metadata": {
        "tags": [],
        "id": "ed85925c-e6e1-44d3-8771-099cbe98d717"
      },
      "source": [
        "## 누적합과 누적곱\n",
        "- cumsum() : 누적합\n",
        "- cumprod() : 누적곱"
      ]
    },
    {
      "cell_type": "code",
      "execution_count": null,
      "id": "7fb0f61b-7292-4416-b74f-cf8e3b3a7c45",
      "metadata": {
        "tags": [],
        "id": "7fb0f61b-7292-4416-b74f-cf8e3b3a7c45",
        "outputId": "0d4262f1-be8c-4d61-aaa5-af3983c78d71"
      },
      "outputs": [
        {
          "data": {
            "text/plain": [
              "array([1, 2, 3, 4])"
            ]
          },
          "execution_count": 96,
          "metadata": {},
          "output_type": "execute_result"
        }
      ],
      "source": [
        "arr4 = np.arange(1, 5)\n",
        "arr4"
      ]
    },
    {
      "cell_type": "code",
      "execution_count": null,
      "id": "d2f7a9aa-5e79-4f91-bfcb-132aecc2fedb",
      "metadata": {
        "tags": [],
        "id": "d2f7a9aa-5e79-4f91-bfcb-132aecc2fedb",
        "outputId": "ee29a215-e636-4b98-d98a-2149b01c70b1"
      },
      "outputs": [
        {
          "data": {
            "text/plain": [
              "array([ 1,  3,  6, 10])"
            ]
          },
          "execution_count": 98,
          "metadata": {},
          "output_type": "execute_result"
        }
      ],
      "source": [
        "arr4.cumsum()"
      ]
    },
    {
      "cell_type": "code",
      "execution_count": null,
      "id": "89b0d82d-8364-432e-aa7c-832d70a1a2c2",
      "metadata": {
        "tags": [],
        "id": "89b0d82d-8364-432e-aa7c-832d70a1a2c2",
        "outputId": "8ce3e905-d0db-4a46-8442-69f3a39f87aa"
      },
      "outputs": [
        {
          "data": {
            "text/plain": [
              "array([ 1,  2,  6, 24])"
            ]
          },
          "execution_count": 99,
          "metadata": {},
          "output_type": "execute_result"
        }
      ],
      "source": [
        "arr4.cumprod()"
      ]
    },
    {
      "cell_type": "markdown",
      "id": "951f3218-2c9d-4ebf-bfb6-ecdd5a805a5b",
      "metadata": {
        "id": "951f3218-2c9d-4ebf-bfb6-ecdd5a805a5b"
      },
      "source": [
        "## 행렬연산\n",
        "- 선형 대수 (Linear Algebra)를 위한 2차원 배열 연산도 지원\n",
        "- p. 229 행렬곱, 전치행렬, 역행렬, 행렬식 사용 예시"
      ]
    },
    {
      "cell_type": "code",
      "execution_count": null,
      "id": "020395e1-b055-44a5-9617-314cd9d4ae22",
      "metadata": {
        "tags": [],
        "id": "020395e1-b055-44a5-9617-314cd9d4ae22",
        "outputId": "619dd309-6cac-4a92-b4b3-d389433b4d1d"
      },
      "outputs": [
        {
          "data": {
            "text/plain": [
              "array([[0, 1],\n",
              "       [2, 3]])"
            ]
          },
          "execution_count": 100,
          "metadata": {},
          "output_type": "execute_result"
        }
      ],
      "source": [
        "A = np.array([0, 1, 2, 3]).reshape(2, 2)\n",
        "A"
      ]
    },
    {
      "cell_type": "code",
      "execution_count": null,
      "id": "bd807720-d28a-44df-89c4-b3e3b019031a",
      "metadata": {
        "tags": [],
        "id": "bd807720-d28a-44df-89c4-b3e3b019031a",
        "outputId": "4a5ac098-1e12-4643-82ac-afe4c36c3ea3"
      },
      "outputs": [
        {
          "data": {
            "text/plain": [
              "array([[3, 2],\n",
              "       [0, 1]])"
            ]
          },
          "execution_count": 101,
          "metadata": {},
          "output_type": "execute_result"
        }
      ],
      "source": [
        "B = np.array([3, 2, 0, 1]).reshape(2, 2)\n",
        "B"
      ]
    },
    {
      "cell_type": "code",
      "execution_count": null,
      "id": "66956641-be00-45fe-8a2e-a9cbe6510833",
      "metadata": {
        "tags": [],
        "id": "66956641-be00-45fe-8a2e-a9cbe6510833",
        "outputId": "e2d99f9a-9c9e-4a40-c8d1-00ab8b32cd29"
      },
      "outputs": [
        {
          "data": {
            "text/plain": [
              "array([[0, 1],\n",
              "       [6, 7]])"
            ]
          },
          "execution_count": 102,
          "metadata": {},
          "output_type": "execute_result"
        }
      ],
      "source": [
        "A.dot(B)"
      ]
    },
    {
      "cell_type": "code",
      "execution_count": null,
      "id": "6eec6708-074d-4105-ab58-10a4ff5cc829",
      "metadata": {
        "tags": [],
        "id": "6eec6708-074d-4105-ab58-10a4ff5cc829",
        "outputId": "92358bd1-b54a-4222-8cb7-cb077eb93f5a"
      },
      "outputs": [
        {
          "data": {
            "text/plain": [
              "array([[0, 2],\n",
              "       [1, 3]])"
            ]
          },
          "execution_count": 103,
          "metadata": {},
          "output_type": "execute_result"
        }
      ],
      "source": [
        "A.transpose()"
      ]
    },
    {
      "cell_type": "code",
      "execution_count": null,
      "id": "077597de-710f-45fa-a0f4-bbc2e93c0a69",
      "metadata": {
        "tags": [],
        "id": "077597de-710f-45fa-a0f4-bbc2e93c0a69",
        "outputId": "657ac26f-a544-40f6-beea-b7315161ca7f"
      },
      "outputs": [
        {
          "data": {
            "text/plain": [
              "array([[-1.5,  0.5],\n",
              "       [ 1. ,  0. ]])"
            ]
          },
          "execution_count": 104,
          "metadata": {},
          "output_type": "execute_result"
        }
      ],
      "source": [
        "np.linalg.inv(A)"
      ]
    },
    {
      "cell_type": "markdown",
      "id": "16b33791-e371-44cb-83e9-cf39193eb752",
      "metadata": {
        "id": "16b33791-e371-44cb-83e9-cf39193eb752"
      },
      "source": [
        "## 배열의 인덱싱과 슬라이싱 (p.230)\n",
        "- string, list, tuple과 동일한 방법으로 접근"
      ]
    },
    {
      "cell_type": "code",
      "execution_count": null,
      "id": "36bb5ddc-1f63-4e95-b82c-a6b1279ddfda",
      "metadata": {
        "tags": [],
        "id": "36bb5ddc-1f63-4e95-b82c-a6b1279ddfda",
        "outputId": "4882c82f-89ed-42c0-c6c3-ae604029d31c"
      },
      "outputs": [
        {
          "data": {
            "text/plain": [
              "array([ 0, 10, 20, 30, 40, 50])"
            ]
          },
          "execution_count": 105,
          "metadata": {},
          "output_type": "execute_result"
        }
      ],
      "source": [
        "a1 = np.array([0, 10, 20, 30, 40, 50])\n",
        "a1"
      ]
    },
    {
      "cell_type": "code",
      "execution_count": null,
      "id": "d1d1e213-7174-4bdb-a41a-2f5e3d0a927e",
      "metadata": {
        "tags": [],
        "id": "d1d1e213-7174-4bdb-a41a-2f5e3d0a927e",
        "outputId": "72354fe8-2a5a-4141-92a9-e3d3dce97186"
      },
      "outputs": [
        {
          "data": {
            "text/plain": [
              "0"
            ]
          },
          "execution_count": 106,
          "metadata": {},
          "output_type": "execute_result"
        }
      ],
      "source": [
        "a1[0]"
      ]
    },
    {
      "cell_type": "code",
      "execution_count": null,
      "id": "bac9ae42-b1cf-4327-b664-320d37b00550",
      "metadata": {
        "tags": [],
        "id": "bac9ae42-b1cf-4327-b664-320d37b00550",
        "outputId": "573ccc8d-231e-4560-f830-987b80921dce"
      },
      "outputs": [
        {
          "data": {
            "text/plain": [
              "array([ 0, 10, 20, 30, 40, 70])"
            ]
          },
          "execution_count": 108,
          "metadata": {},
          "output_type": "execute_result"
        }
      ],
      "source": [
        "# 50을 70으로 변경하고싶음\n",
        "a1[5] = 70\n",
        "a1"
      ]
    },
    {
      "cell_type": "code",
      "execution_count": null,
      "id": "abec3cac-8147-4ef7-9888-56b4eea1960f",
      "metadata": {
        "tags": [],
        "id": "abec3cac-8147-4ef7-9888-56b4eea1960f",
        "outputId": "39c47c47-0e23-4eef-8de9-bfb4ba4388ba"
      },
      "outputs": [
        {
          "data": {
            "text/plain": [
              "array([ 0, 20, 40])"
            ]
          },
          "execution_count": 112,
          "metadata": {},
          "output_type": "execute_result"
        }
      ],
      "source": [
        "# 리스트 통해서 추출\n",
        "a1[[0, 2, 4]]"
      ]
    },
    {
      "cell_type": "code",
      "execution_count": null,
      "id": "a4821772-c594-407c-9dc6-d89eda8747ae",
      "metadata": {
        "tags": [],
        "id": "a4821772-c594-407c-9dc6-d89eda8747ae",
        "outputId": "767f57c7-c139-4f36-d1f3-dc4968823876"
      },
      "outputs": [
        {
          "data": {
            "text/plain": [
              "array([ 0, 20, 40])"
            ]
          },
          "execution_count": 113,
          "metadata": {},
          "output_type": "execute_result"
        }
      ],
      "source": [
        "idx_list = [0, 2, 4]\n",
        "a1[idx_list]"
      ]
    },
    {
      "cell_type": "code",
      "execution_count": null,
      "id": "665c52f1-5b2a-47c9-aea0-9b093a79fbd9",
      "metadata": {
        "tags": [],
        "id": "665c52f1-5b2a-47c9-aea0-9b093a79fbd9",
        "outputId": "ea7abc5a-4b12-433f-f229-98a2c3b1e410"
      },
      "outputs": [
        {
          "data": {
            "text/plain": [
              "array([[10, 20, 30],\n",
              "       [40, 50, 60],\n",
              "       [70, 80, 90]])"
            ]
          },
          "execution_count": 110,
          "metadata": {},
          "output_type": "execute_result"
        }
      ],
      "source": [
        "a2 = np.arange(10, 100, 10).reshape(3, 3)\n",
        "a2"
      ]
    },
    {
      "cell_type": "code",
      "execution_count": null,
      "id": "5edaf608-c4f6-4139-b88f-15621f03ab23",
      "metadata": {
        "tags": [],
        "id": "5edaf608-c4f6-4139-b88f-15621f03ab23",
        "outputId": "3952c544-8ba6-4d5b-b7ed-1a54370b9d40"
      },
      "outputs": [
        {
          "data": {
            "text/plain": [
              "60"
            ]
          },
          "execution_count": 121,
          "metadata": {},
          "output_type": "execute_result"
        }
      ],
      "source": [
        "a2[1, 2]"
      ]
    },
    {
      "cell_type": "code",
      "execution_count": null,
      "id": "28dd3581-9524-48fa-9d3b-03784b8ac13d",
      "metadata": {
        "tags": [],
        "id": "28dd3581-9524-48fa-9d3b-03784b8ac13d",
        "outputId": "32daf12b-151e-4b83-c1d3-cc8fd4fc339f"
      },
      "outputs": [
        {
          "data": {
            "text/plain": [
              "array([[10, 20, 30],\n",
              "       [40, 50, 60],\n",
              "       [70, 80, 95]])"
            ]
          },
          "execution_count": 123,
          "metadata": {},
          "output_type": "execute_result"
        }
      ],
      "source": [
        "# 90을 95로 변경\n",
        "a2[2, 2] = 95\n",
        "a2"
      ]
    },
    {
      "cell_type": "code",
      "execution_count": null,
      "id": "74e1781e-8a93-476b-92d5-786c22ec1c74",
      "metadata": {
        "tags": [],
        "id": "74e1781e-8a93-476b-92d5-786c22ec1c74",
        "outputId": "bde520e9-df5a-40c5-d329-4fc0cbedd8a6"
      },
      "outputs": [
        {
          "data": {
            "text/plain": [
              "array([[10, 20, 30],\n",
              "       [45, 50, 60],\n",
              "       [70, 80, 95]])"
            ]
          },
          "execution_count": 128,
          "metadata": {},
          "output_type": "execute_result"
        }
      ],
      "source": [
        "#40을 45로 변경\n",
        "a2[1, 0] = 45\n",
        "a2"
      ]
    },
    {
      "cell_type": "code",
      "execution_count": null,
      "id": "4d945eaa-5ec7-48c6-9802-3aed8d72e1c1",
      "metadata": {
        "tags": [],
        "id": "4d945eaa-5ec7-48c6-9802-3aed8d72e1c1",
        "outputId": "210b1435-8bc8-4b5d-ca10-8c0709aebfe4"
      },
      "outputs": [
        {
          "data": {
            "text/plain": [
              "array([[ 1,  2,  3],\n",
              "       [45, 50, 60],\n",
              "       [70, 80, 95]])"
            ]
          },
          "execution_count": 132,
          "metadata": {},
          "output_type": "execute_result"
        }
      ],
      "source": [
        "a2[0] = [1, 2, 3] # 앞과 뒤가 형태가 달라서 오류날 위험 있음 [0]은 인덱스 [1, 2, 3]은 리스트\n",
        "a2"
      ]
    },
    {
      "cell_type": "code",
      "execution_count": null,
      "id": "e8cc77db-db6f-44d8-ac39-cc595f55f1a4",
      "metadata": {
        "tags": [],
        "id": "e8cc77db-db6f-44d8-ac39-cc595f55f1a4",
        "outputId": "80f1de29-fc7f-4614-e1c7-f7e65eb3fdb8"
      },
      "outputs": [
        {
          "data": {
            "text/plain": [
              "array([[ 1,  2,  3],\n",
              "       [45, 50, 60],\n",
              "       [70, 80, 95]])"
            ]
          },
          "execution_count": 135,
          "metadata": {},
          "output_type": "execute_result"
        }
      ],
      "source": [
        "a2[0] = np.array([1, 2, 3]) # 이렇게 하는게 정석!\n",
        "a2"
      ]
    },
    {
      "cell_type": "markdown",
      "id": "30d8c4d0-95aa-4212-931d-bda7c562c7e9",
      "metadata": {
        "id": "30d8c4d0-95aa-4212-931d-bda7c562c7e9"
      },
      "source": [
        "- 2차원 배열의 행과 열 위치 지정해서 원소 추출\n",
        "    + (행의 위치1, 열의 위치1) / (행의 위치2, 열의 위치2)"
      ]
    },
    {
      "cell_type": "code",
      "execution_count": null,
      "id": "c02fcfce-0cc7-417a-809a-4799c9453c10",
      "metadata": {
        "tags": [],
        "id": "c02fcfce-0cc7-417a-809a-4799c9453c10",
        "outputId": "2464371b-e018-4143-c469-844799ebb97d"
      },
      "outputs": [
        {
          "data": {
            "text/plain": [
              "array([[ 1,  2,  3],\n",
              "       [45, 50, 60],\n",
              "       [70, 80, 95]])"
            ]
          },
          "execution_count": 138,
          "metadata": {},
          "output_type": "execute_result"
        }
      ],
      "source": [
        "a2"
      ]
    },
    {
      "cell_type": "code",
      "execution_count": null,
      "id": "cffe1a98-c839-4040-bb1e-091c49d5d426",
      "metadata": {
        "tags": [],
        "id": "cffe1a98-c839-4040-bb1e-091c49d5d426",
        "outputId": "5b67d036-313a-4513-9fee-a829f73aca44"
      },
      "outputs": [
        {
          "data": {
            "text/plain": [
              "array([ 1, 80])"
            ]
          },
          "execution_count": 137,
          "metadata": {},
          "output_type": "execute_result"
        }
      ],
      "source": [
        "a2[[0, 2], [0, 1]]"
      ]
    },
    {
      "cell_type": "code",
      "execution_count": null,
      "id": "78e6fa4a-3a46-4d03-b65c-e1c3509ee61e",
      "metadata": {
        "tags": [],
        "id": "78e6fa4a-3a46-4d03-b65c-e1c3509ee61e",
        "outputId": "59bb2838-0fb5-43e3-9d73-4808f0e6eaa4"
      },
      "outputs": [
        {
          "data": {
            "text/plain": [
              "(1, 80)"
            ]
          },
          "execution_count": 140,
          "metadata": {},
          "output_type": "execute_result"
        }
      ],
      "source": [
        "a2[0, 0], a2[2, 1]"
      ]
    },
    {
      "cell_type": "markdown",
      "id": "7c7a3f22-e241-435a-a514-0f12c8d13acb",
      "metadata": {
        "id": "7c7a3f22-e241-435a-a514-0f12c8d13acb"
      },
      "source": [
        "## 배열 조건문\n",
        "- pandas 문법과 유사하다"
      ]
    },
    {
      "cell_type": "code",
      "execution_count": null,
      "id": "5f29d9d0-26dd-44a7-8409-c902bfef3827",
      "metadata": {
        "tags": [],
        "id": "5f29d9d0-26dd-44a7-8409-c902bfef3827",
        "outputId": "c9d72415-7627-4fa7-953d-4c931fd1077e"
      },
      "outputs": [
        {
          "data": {
            "text/plain": [
              "array([1, 2, 3, 4, 5, 6])"
            ]
          },
          "execution_count": 151,
          "metadata": {},
          "output_type": "execute_result"
        }
      ],
      "source": [
        "a = np.array([1, 2, 3, 4, 5, 6])\n",
        "a"
      ]
    },
    {
      "cell_type": "code",
      "execution_count": null,
      "id": "ad791ce1-38c4-4dba-afd3-dd493a0330b6",
      "metadata": {
        "tags": [],
        "id": "ad791ce1-38c4-4dba-afd3-dd493a0330b6",
        "outputId": "068ab793-8be6-429c-aca1-5b161ad79a85"
      },
      "outputs": [
        {
          "data": {
            "text/plain": [
              "[array([False, False, False,  True,  True,  True])]"
            ]
          },
          "execution_count": 152,
          "metadata": {},
          "output_type": "execute_result"
        }
      ],
      "source": [
        "[a>3]"
      ]
    },
    {
      "cell_type": "code",
      "execution_count": null,
      "id": "9d381cc0-9f38-4a83-82a2-880fc5f4449a",
      "metadata": {
        "tags": [],
        "id": "9d381cc0-9f38-4a83-82a2-880fc5f4449a",
        "outputId": "747c1aea-2585-4794-b57e-5cfa5993ca3f"
      },
      "outputs": [
        {
          "data": {
            "text/plain": [
              "array([4, 5, 6])"
            ]
          },
          "execution_count": 153,
          "metadata": {},
          "output_type": "execute_result"
        }
      ],
      "source": [
        "a[a>3]"
      ]
    },
    {
      "cell_type": "code",
      "execution_count": null,
      "id": "9954c906-5b6d-435c-a5c9-99cffc7b85a1",
      "metadata": {
        "tags": [],
        "id": "9954c906-5b6d-435c-a5c9-99cffc7b85a1",
        "outputId": "801efcf7-914f-4bf7-db7d-82794d580deb"
      },
      "outputs": [
        {
          "data": {
            "text/plain": [
              "array([False,  True, False,  True, False,  True])"
            ]
          },
          "execution_count": 155,
          "metadata": {},
          "output_type": "execute_result"
        }
      ],
      "source": [
        "a % 2 == 0 # 실무에서는 이런 코드를 작성하는 것이 핵심!"
      ]
    },
    {
      "cell_type": "markdown",
      "id": "acacdefb-49f0-4f01-93bd-49fea847b785",
      "metadata": {
        "id": "acacdefb-49f0-4f01-93bd-49fea847b785"
      },
      "source": [
        "## 배열의 슬라이싱"
      ]
    },
    {
      "cell_type": "code",
      "execution_count": null,
      "id": "35f94c4e-9e5a-484f-8002-c14fb86c68c7",
      "metadata": {
        "tags": [],
        "id": "35f94c4e-9e5a-484f-8002-c14fb86c68c7",
        "outputId": "c70c2fcc-bc2d-47a0-9eb7-102313aaaa72"
      },
      "outputs": [
        {
          "data": {
            "text/plain": [
              "array([1, 2, 3])"
            ]
          },
          "execution_count": 157,
          "metadata": {},
          "output_type": "execute_result"
        }
      ],
      "source": [
        "# p.234\n",
        "b1 = np.array([0, 1, 2, 3, 4, 5])\n",
        "b1[1:4]"
      ]
    },
    {
      "cell_type": "code",
      "execution_count": null,
      "id": "aa1e4870-717e-4f92-b78d-632acb52fd3f",
      "metadata": {
        "tags": [],
        "id": "aa1e4870-717e-4f92-b78d-632acb52fd3f",
        "outputId": "020cb5c9-1af4-4467-b088-fd4591edc7f6"
      },
      "outputs": [
        {
          "data": {
            "text/plain": [
              "array([0, 1, 2])"
            ]
          },
          "execution_count": 158,
          "metadata": {},
          "output_type": "execute_result"
        }
      ],
      "source": [
        "b1[:3]"
      ]
    },
    {
      "cell_type": "code",
      "execution_count": null,
      "id": "87ac3e9c-ccbf-4132-886f-747408ed5e97",
      "metadata": {
        "tags": [],
        "id": "87ac3e9c-ccbf-4132-886f-747408ed5e97",
        "outputId": "776b9a01-e0e5-4385-a93f-2c4d45d3e818"
      },
      "outputs": [
        {
          "data": {
            "text/plain": [
              "array([2, 3, 4, 5])"
            ]
          },
          "execution_count": 159,
          "metadata": {},
          "output_type": "execute_result"
        }
      ],
      "source": [
        "b1[2:]"
      ]
    },
    {
      "cell_type": "code",
      "execution_count": null,
      "id": "0117ce09-9fb6-4585-9237-17961ad197da",
      "metadata": {
        "tags": [],
        "id": "0117ce09-9fb6-4585-9237-17961ad197da",
        "outputId": "e7cb7516-41ce-4ff5-d587-bf8511661de1"
      },
      "outputs": [
        {
          "data": {
            "text/plain": [
              "array([0, 2])"
            ]
          },
          "execution_count": 160,
          "metadata": {},
          "output_type": "execute_result"
        }
      ],
      "source": [
        "b1[0:4:2]"
      ]
    },
    {
      "cell_type": "code",
      "execution_count": null,
      "id": "e602df68-06b7-4b8a-9218-872326657a7a",
      "metadata": {
        "tags": [],
        "id": "e602df68-06b7-4b8a-9218-872326657a7a",
        "outputId": "16fceb91-83f6-4850-f00e-b1d0976975cb"
      },
      "outputs": [
        {
          "data": {
            "text/plain": [
              "array([ 0,  1, 25, 35, 45,  5])"
            ]
          },
          "execution_count": 162,
          "metadata": {},
          "output_type": "execute_result"
        }
      ],
      "source": [
        "b1[2:5] = np.array([25, 35, 45])\n",
        "b1"
      ]
    },
    {
      "cell_type": "code",
      "execution_count": null,
      "id": "5f8f90ee-cd19-4140-8e1c-caf590499194",
      "metadata": {
        "tags": [],
        "id": "5f8f90ee-cd19-4140-8e1c-caf590499194",
        "outputId": "5f570d72-08b8-411b-f99d-cf8c09d3529f"
      },
      "outputs": [
        {
          "data": {
            "text/plain": [
              "array([ 0,  1, 25, 60, 60, 60])"
            ]
          },
          "execution_count": 164,
          "metadata": {},
          "output_type": "execute_result"
        }
      ],
      "source": [
        "b1[3:6] = 60\n",
        "b1"
      ]
    },
    {
      "cell_type": "code",
      "execution_count": null,
      "id": "f9b7f27f-4fdd-4cb7-895c-c6c2957cc5d5",
      "metadata": {
        "tags": [],
        "id": "f9b7f27f-4fdd-4cb7-895c-c6c2957cc5d5",
        "outputId": "10163a3d-55c3-4187-b6b8-99c074f87fef"
      },
      "outputs": [
        {
          "data": {
            "text/plain": [
              "array([[10, 20, 30],\n",
              "       [40, 50, 60],\n",
              "       [70, 80, 90]])"
            ]
          },
          "execution_count": 167,
          "metadata": {},
          "output_type": "execute_result"
        }
      ],
      "source": [
        "b2 = np.arange(10, 100, 10).reshape(3, 3)\n",
        "b2"
      ]
    },
    {
      "cell_type": "code",
      "execution_count": null,
      "id": "5b558897-4f16-43ca-8673-359ff9c3b75b",
      "metadata": {
        "tags": [],
        "id": "5b558897-4f16-43ca-8673-359ff9c3b75b",
        "outputId": "d863bf4f-b1e4-4c93-9e2e-93822f076d6b"
      },
      "outputs": [
        {
          "data": {
            "text/plain": [
              "array([[50, 60],\n",
              "       [80, 90]])"
            ]
          },
          "execution_count": 169,
          "metadata": {},
          "output_type": "execute_result"
        }
      ],
      "source": [
        "b2[1:3, 1:3]"
      ]
    },
    {
      "cell_type": "code",
      "execution_count": null,
      "id": "09c9cdd7-505b-4ef2-ad6f-68944cce3bb1",
      "metadata": {
        "tags": [],
        "id": "09c9cdd7-505b-4ef2-ad6f-68944cce3bb1",
        "outputId": "b69474ac-df94-4e73-cc5f-4078f097f23e"
      },
      "outputs": [
        {
          "data": {
            "text/plain": [
              "array([40, 50])"
            ]
          },
          "execution_count": 172,
          "metadata": {},
          "output_type": "execute_result"
        }
      ],
      "source": [
        "b2[1][0:2]"
      ]
    },
    {
      "cell_type": "markdown",
      "id": "e03116a5-2d69-4a1b-8e4f-b1ec696454f8",
      "metadata": {
        "id": "e03116a5-2d69-4a1b-8e4f-b1ec696454f8"
      },
      "source": [
        "## Numpy 조건문\n",
        "- np.where : 단일 조건문\n",
        "- np.select: 다중 조건문"
      ]
    },
    {
      "cell_type": "code",
      "execution_count": null,
      "id": "34f5de1d-7213-46d5-a270-6706495a0c79",
      "metadata": {
        "tags": [],
        "id": "34f5de1d-7213-46d5-a270-6706495a0c79",
        "outputId": "6a8b64cb-b4c8-42ae-d0f1-06ad28a413a2"
      },
      "outputs": [
        {
          "data": {
            "text/plain": [
              "array([0, 1, 2, 3, 4, 5, 6, 7, 8, 9])"
            ]
          },
          "execution_count": 174,
          "metadata": {},
          "output_type": "execute_result"
        }
      ],
      "source": [
        "arr = np.arange(10)\n",
        "arr"
      ]
    },
    {
      "cell_type": "code",
      "execution_count": null,
      "id": "d56c13fa-471f-4bf3-9a03-2d9378ec20b1",
      "metadata": {
        "tags": [],
        "id": "d56c13fa-471f-4bf3-9a03-2d9378ec20b1",
        "outputId": "5acfa60d-7bfc-4909-b465-ab7c94f98720"
      },
      "outputs": [
        {
          "data": {
            "text/plain": [
              "array([ 0,  1,  2,  3,  4, 50, 60, 70, 80, 90])"
            ]
          },
          "execution_count": 176,
          "metadata": {},
          "output_type": "execute_result"
        }
      ],
      "source": [
        "# 0, 1, 2, 3, 4, 50, 60, 70, 80, 90\n",
        "np.where(arr < 5, arr, arr * 10)"
      ]
    },
    {
      "cell_type": "code",
      "execution_count": null,
      "id": "5e9b2b20-935a-4a3a-b4c9-f89fcc24133f",
      "metadata": {
        "tags": [],
        "id": "5e9b2b20-935a-4a3a-b4c9-f89fcc24133f",
        "outputId": "f9f7bd4f-7d51-4830-b81b-5c4973e64b51"
      },
      "outputs": [
        {
          "data": {
            "text/plain": [
              "array([0, 1, 2, 3, 4, 5, 6, 7, 8, 9])"
            ]
          },
          "execution_count": 177,
          "metadata": {},
          "output_type": "execute_result"
        }
      ],
      "source": [
        "arr = np.arange(10)\n",
        "arr"
      ]
    },
    {
      "cell_type": "code",
      "execution_count": null,
      "id": "21ea2496-90e9-4d6e-bd03-7345f91b82df",
      "metadata": {
        "tags": [],
        "id": "21ea2496-90e9-4d6e-bd03-7345f91b82df",
        "outputId": "fcd6b753-03f1-418e-d3ed-cc1fa0ee14a5"
      },
      "outputs": [
        {
          "data": {
            "text/plain": [
              "array([100, 101,   2,   3,   4,   5,  12,  14,  16,  18])"
            ]
          },
          "execution_count": 178,
          "metadata": {},
          "output_type": "execute_result"
        }
      ],
      "source": [
        "# 100, 101, 2, 3, 4, 5, 12, 14, 16, 18\n",
        "# 2 미만일때는 100을 더해라\n",
        "# 5 초과 일때는 곱하기 2를 해줘라\n",
        "\n",
        "# 조건식과 대응되는 결과를 리스트로 만들기\n",
        "cond_list = [arr > 5, arr < 2]\n",
        "choice_list = [arr * 2, arr +100]\n",
        "\n",
        "np.select(cond_list, choice_list, default = arr)"
      ]
    }
  ],
  "metadata": {
    "kernelspec": {
      "display_name": "Python 3 (ipykernel)",
      "language": "python",
      "name": "python3"
    },
    "language_info": {
      "codemirror_mode": {
        "name": "ipython",
        "version": 3
      },
      "file_extension": ".py",
      "mimetype": "text/x-python",
      "name": "python",
      "nbconvert_exporter": "python",
      "pygments_lexer": "ipython3",
      "version": "3.11.5"
    },
    "colab": {
      "provenance": [],
      "include_colab_link": true
    }
  },
  "nbformat": 4,
  "nbformat_minor": 5
}